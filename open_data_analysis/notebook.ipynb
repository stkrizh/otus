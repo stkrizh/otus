{
 "cells": [
  {
   "cell_type": "code",
   "execution_count": 1,
   "metadata": {},
   "outputs": [
    {
     "data": {
      "text/html": [
       "\n",
       "    <div class=\"bk-root\">\n",
       "        <a href=\"https://bokeh.pydata.org\" target=\"_blank\" class=\"bk-logo bk-logo-small bk-logo-notebook\"></a>\n",
       "        <span id=\"1001\">Loading BokehJS ...</span>\n",
       "    </div>"
      ]
     },
     "metadata": {},
     "output_type": "display_data"
    },
    {
     "data": {
      "application/javascript": [
       "\n",
       "(function(root) {\n",
       "  function now() {\n",
       "    return new Date();\n",
       "  }\n",
       "\n",
       "  var force = true;\n",
       "\n",
       "  if (typeof root._bokeh_onload_callbacks === \"undefined\" || force === true) {\n",
       "    root._bokeh_onload_callbacks = [];\n",
       "    root._bokeh_is_loading = undefined;\n",
       "  }\n",
       "\n",
       "  var JS_MIME_TYPE = 'application/javascript';\n",
       "  var HTML_MIME_TYPE = 'text/html';\n",
       "  var EXEC_MIME_TYPE = 'application/vnd.bokehjs_exec.v0+json';\n",
       "  var CLASS_NAME = 'output_bokeh rendered_html';\n",
       "\n",
       "  /**\n",
       "   * Render data to the DOM node\n",
       "   */\n",
       "  function render(props, node) {\n",
       "    var script = document.createElement(\"script\");\n",
       "    node.appendChild(script);\n",
       "  }\n",
       "\n",
       "  /**\n",
       "   * Handle when an output is cleared or removed\n",
       "   */\n",
       "  function handleClearOutput(event, handle) {\n",
       "    var cell = handle.cell;\n",
       "\n",
       "    var id = cell.output_area._bokeh_element_id;\n",
       "    var server_id = cell.output_area._bokeh_server_id;\n",
       "    // Clean up Bokeh references\n",
       "    if (id != null && id in Bokeh.index) {\n",
       "      Bokeh.index[id].model.document.clear();\n",
       "      delete Bokeh.index[id];\n",
       "    }\n",
       "\n",
       "    if (server_id !== undefined) {\n",
       "      // Clean up Bokeh references\n",
       "      var cmd = \"from bokeh.io.state import curstate; print(curstate().uuid_to_server['\" + server_id + \"'].get_sessions()[0].document.roots[0]._id)\";\n",
       "      cell.notebook.kernel.execute(cmd, {\n",
       "        iopub: {\n",
       "          output: function(msg) {\n",
       "            var id = msg.content.text.trim();\n",
       "            if (id in Bokeh.index) {\n",
       "              Bokeh.index[id].model.document.clear();\n",
       "              delete Bokeh.index[id];\n",
       "            }\n",
       "          }\n",
       "        }\n",
       "      });\n",
       "      // Destroy server and session\n",
       "      var cmd = \"import bokeh.io.notebook as ion; ion.destroy_server('\" + server_id + \"')\";\n",
       "      cell.notebook.kernel.execute(cmd);\n",
       "    }\n",
       "  }\n",
       "\n",
       "  /**\n",
       "   * Handle when a new output is added\n",
       "   */\n",
       "  function handleAddOutput(event, handle) {\n",
       "    var output_area = handle.output_area;\n",
       "    var output = handle.output;\n",
       "\n",
       "    // limit handleAddOutput to display_data with EXEC_MIME_TYPE content only\n",
       "    if ((output.output_type != \"display_data\") || (!output.data.hasOwnProperty(EXEC_MIME_TYPE))) {\n",
       "      return\n",
       "    }\n",
       "\n",
       "    var toinsert = output_area.element.find(\".\" + CLASS_NAME.split(' ')[0]);\n",
       "\n",
       "    if (output.metadata[EXEC_MIME_TYPE][\"id\"] !== undefined) {\n",
       "      toinsert[toinsert.length - 1].firstChild.textContent = output.data[JS_MIME_TYPE];\n",
       "      // store reference to embed id on output_area\n",
       "      output_area._bokeh_element_id = output.metadata[EXEC_MIME_TYPE][\"id\"];\n",
       "    }\n",
       "    if (output.metadata[EXEC_MIME_TYPE][\"server_id\"] !== undefined) {\n",
       "      var bk_div = document.createElement(\"div\");\n",
       "      bk_div.innerHTML = output.data[HTML_MIME_TYPE];\n",
       "      var script_attrs = bk_div.children[0].attributes;\n",
       "      for (var i = 0; i < script_attrs.length; i++) {\n",
       "        toinsert[toinsert.length - 1].firstChild.setAttribute(script_attrs[i].name, script_attrs[i].value);\n",
       "      }\n",
       "      // store reference to server id on output_area\n",
       "      output_area._bokeh_server_id = output.metadata[EXEC_MIME_TYPE][\"server_id\"];\n",
       "    }\n",
       "  }\n",
       "\n",
       "  function register_renderer(events, OutputArea) {\n",
       "\n",
       "    function append_mime(data, metadata, element) {\n",
       "      // create a DOM node to render to\n",
       "      var toinsert = this.create_output_subarea(\n",
       "        metadata,\n",
       "        CLASS_NAME,\n",
       "        EXEC_MIME_TYPE\n",
       "      );\n",
       "      this.keyboard_manager.register_events(toinsert);\n",
       "      // Render to node\n",
       "      var props = {data: data, metadata: metadata[EXEC_MIME_TYPE]};\n",
       "      render(props, toinsert[toinsert.length - 1]);\n",
       "      element.append(toinsert);\n",
       "      return toinsert\n",
       "    }\n",
       "\n",
       "    /* Handle when an output is cleared or removed */\n",
       "    events.on('clear_output.CodeCell', handleClearOutput);\n",
       "    events.on('delete.Cell', handleClearOutput);\n",
       "\n",
       "    /* Handle when a new output is added */\n",
       "    events.on('output_added.OutputArea', handleAddOutput);\n",
       "\n",
       "    /**\n",
       "     * Register the mime type and append_mime function with output_area\n",
       "     */\n",
       "    OutputArea.prototype.register_mime_type(EXEC_MIME_TYPE, append_mime, {\n",
       "      /* Is output safe? */\n",
       "      safe: true,\n",
       "      /* Index of renderer in `output_area.display_order` */\n",
       "      index: 0\n",
       "    });\n",
       "  }\n",
       "\n",
       "  // register the mime type if in Jupyter Notebook environment and previously unregistered\n",
       "  if (root.Jupyter !== undefined) {\n",
       "    var events = require('base/js/events');\n",
       "    var OutputArea = require('notebook/js/outputarea').OutputArea;\n",
       "\n",
       "    if (OutputArea.prototype.mime_types().indexOf(EXEC_MIME_TYPE) == -1) {\n",
       "      register_renderer(events, OutputArea);\n",
       "    }\n",
       "  }\n",
       "\n",
       "  \n",
       "  if (typeof (root._bokeh_timeout) === \"undefined\" || force === true) {\n",
       "    root._bokeh_timeout = Date.now() + 5000;\n",
       "    root._bokeh_failed_load = false;\n",
       "  }\n",
       "\n",
       "  var NB_LOAD_WARNING = {'data': {'text/html':\n",
       "     \"<div style='background-color: #fdd'>\\n\"+\n",
       "     \"<p>\\n\"+\n",
       "     \"BokehJS does not appear to have successfully loaded. If loading BokehJS from CDN, this \\n\"+\n",
       "     \"may be due to a slow or bad network connection. Possible fixes:\\n\"+\n",
       "     \"</p>\\n\"+\n",
       "     \"<ul>\\n\"+\n",
       "     \"<li>re-rerun `output_notebook()` to attempt to load from CDN again, or</li>\\n\"+\n",
       "     \"<li>use INLINE resources instead, as so:</li>\\n\"+\n",
       "     \"</ul>\\n\"+\n",
       "     \"<code>\\n\"+\n",
       "     \"from bokeh.resources import INLINE\\n\"+\n",
       "     \"output_notebook(resources=INLINE)\\n\"+\n",
       "     \"</code>\\n\"+\n",
       "     \"</div>\"}};\n",
       "\n",
       "  function display_loaded() {\n",
       "    var el = document.getElementById(\"1001\");\n",
       "    if (el != null) {\n",
       "      el.textContent = \"BokehJS is loading...\";\n",
       "    }\n",
       "    if (root.Bokeh !== undefined) {\n",
       "      if (el != null) {\n",
       "        el.textContent = \"BokehJS \" + root.Bokeh.version + \" successfully loaded.\";\n",
       "      }\n",
       "    } else if (Date.now() < root._bokeh_timeout) {\n",
       "      setTimeout(display_loaded, 100)\n",
       "    }\n",
       "  }\n",
       "\n",
       "\n",
       "  function run_callbacks() {\n",
       "    try {\n",
       "      root._bokeh_onload_callbacks.forEach(function(callback) {\n",
       "        if (callback != null)\n",
       "          callback();\n",
       "      });\n",
       "    } finally {\n",
       "      delete root._bokeh_onload_callbacks\n",
       "    }\n",
       "    console.debug(\"Bokeh: all callbacks have finished\");\n",
       "  }\n",
       "\n",
       "  function load_libs(css_urls, js_urls, callback) {\n",
       "    if (css_urls == null) css_urls = [];\n",
       "    if (js_urls == null) js_urls = [];\n",
       "\n",
       "    root._bokeh_onload_callbacks.push(callback);\n",
       "    if (root._bokeh_is_loading > 0) {\n",
       "      console.debug(\"Bokeh: BokehJS is being loaded, scheduling callback at\", now());\n",
       "      return null;\n",
       "    }\n",
       "    if (js_urls == null || js_urls.length === 0) {\n",
       "      run_callbacks();\n",
       "      return null;\n",
       "    }\n",
       "    console.debug(\"Bokeh: BokehJS not loaded, scheduling load and callback at\", now());\n",
       "    root._bokeh_is_loading = css_urls.length + js_urls.length;\n",
       "\n",
       "    function on_load() {\n",
       "      root._bokeh_is_loading--;\n",
       "      if (root._bokeh_is_loading === 0) {\n",
       "        console.debug(\"Bokeh: all BokehJS libraries/stylesheets loaded\");\n",
       "        run_callbacks()\n",
       "      }\n",
       "    }\n",
       "\n",
       "    function on_error() {\n",
       "      console.error(\"failed to load \" + url);\n",
       "    }\n",
       "\n",
       "    for (var i = 0; i < css_urls.length; i++) {\n",
       "      var url = css_urls[i];\n",
       "      const element = document.createElement(\"link\");\n",
       "      element.onload = on_load;\n",
       "      element.onerror = on_error;\n",
       "      element.rel = \"stylesheet\";\n",
       "      element.type = \"text/css\";\n",
       "      element.href = url;\n",
       "      console.debug(\"Bokeh: injecting link tag for BokehJS stylesheet: \", url);\n",
       "      document.body.appendChild(element);\n",
       "    }\n",
       "\n",
       "    for (var i = 0; i < js_urls.length; i++) {\n",
       "      var url = js_urls[i];\n",
       "      var element = document.createElement('script');\n",
       "      element.onload = on_load;\n",
       "      element.onerror = on_error;\n",
       "      element.async = false;\n",
       "      element.src = url;\n",
       "      console.debug(\"Bokeh: injecting script tag for BokehJS library: \", url);\n",
       "      document.head.appendChild(element);\n",
       "    }\n",
       "  };var element = document.getElementById(\"1001\");\n",
       "  if (element == null) {\n",
       "    console.error(\"Bokeh: ERROR: autoload.js configured with elementid '1001' but no matching script tag was found. \")\n",
       "    return false;\n",
       "  }\n",
       "\n",
       "  function inject_raw_css(css) {\n",
       "    const element = document.createElement(\"style\");\n",
       "    element.appendChild(document.createTextNode(css));\n",
       "    document.body.appendChild(element);\n",
       "  }\n",
       "\n",
       "  var js_urls = [\"https://cdn.pydata.org/bokeh/release/bokeh-1.3.4.min.js\", \"https://cdn.pydata.org/bokeh/release/bokeh-widgets-1.3.4.min.js\", \"https://cdn.pydata.org/bokeh/release/bokeh-tables-1.3.4.min.js\", \"https://cdn.pydata.org/bokeh/release/bokeh-gl-1.3.4.min.js\"];\n",
       "  var css_urls = [];\n",
       "\n",
       "  var inline_js = [\n",
       "    function(Bokeh) {\n",
       "      Bokeh.set_log_level(\"info\");\n",
       "    },\n",
       "    \n",
       "    function(Bokeh) {\n",
       "      \n",
       "    },\n",
       "    function(Bokeh) {} // ensure no trailing comma for IE\n",
       "  ];\n",
       "\n",
       "  function run_inline_js() {\n",
       "    \n",
       "    if ((root.Bokeh !== undefined) || (force === true)) {\n",
       "      for (var i = 0; i < inline_js.length; i++) {\n",
       "        inline_js[i].call(root, root.Bokeh);\n",
       "      }if (force === true) {\n",
       "        display_loaded();\n",
       "      }} else if (Date.now() < root._bokeh_timeout) {\n",
       "      setTimeout(run_inline_js, 100);\n",
       "    } else if (!root._bokeh_failed_load) {\n",
       "      console.log(\"Bokeh: BokehJS failed to load within specified timeout.\");\n",
       "      root._bokeh_failed_load = true;\n",
       "    } else if (force !== true) {\n",
       "      var cell = $(document.getElementById(\"1001\")).parents('.cell').data().cell;\n",
       "      cell.output_area.append_execute_result(NB_LOAD_WARNING)\n",
       "    }\n",
       "\n",
       "  }\n",
       "\n",
       "  if (root._bokeh_is_loading === 0) {\n",
       "    console.debug(\"Bokeh: BokehJS loaded, going straight to plotting\");\n",
       "    run_inline_js();\n",
       "  } else {\n",
       "    load_libs(css_urls, js_urls, function() {\n",
       "      console.debug(\"Bokeh: BokehJS plotting callback run at\", now());\n",
       "      run_inline_js();\n",
       "    });\n",
       "  }\n",
       "}(window));"
      ],
      "application/vnd.bokehjs_load.v0+json": "\n(function(root) {\n  function now() {\n    return new Date();\n  }\n\n  var force = true;\n\n  if (typeof root._bokeh_onload_callbacks === \"undefined\" || force === true) {\n    root._bokeh_onload_callbacks = [];\n    root._bokeh_is_loading = undefined;\n  }\n\n  \n\n  \n  if (typeof (root._bokeh_timeout) === \"undefined\" || force === true) {\n    root._bokeh_timeout = Date.now() + 5000;\n    root._bokeh_failed_load = false;\n  }\n\n  var NB_LOAD_WARNING = {'data': {'text/html':\n     \"<div style='background-color: #fdd'>\\n\"+\n     \"<p>\\n\"+\n     \"BokehJS does not appear to have successfully loaded. If loading BokehJS from CDN, this \\n\"+\n     \"may be due to a slow or bad network connection. Possible fixes:\\n\"+\n     \"</p>\\n\"+\n     \"<ul>\\n\"+\n     \"<li>re-rerun `output_notebook()` to attempt to load from CDN again, or</li>\\n\"+\n     \"<li>use INLINE resources instead, as so:</li>\\n\"+\n     \"</ul>\\n\"+\n     \"<code>\\n\"+\n     \"from bokeh.resources import INLINE\\n\"+\n     \"output_notebook(resources=INLINE)\\n\"+\n     \"</code>\\n\"+\n     \"</div>\"}};\n\n  function display_loaded() {\n    var el = document.getElementById(\"1001\");\n    if (el != null) {\n      el.textContent = \"BokehJS is loading...\";\n    }\n    if (root.Bokeh !== undefined) {\n      if (el != null) {\n        el.textContent = \"BokehJS \" + root.Bokeh.version + \" successfully loaded.\";\n      }\n    } else if (Date.now() < root._bokeh_timeout) {\n      setTimeout(display_loaded, 100)\n    }\n  }\n\n\n  function run_callbacks() {\n    try {\n      root._bokeh_onload_callbacks.forEach(function(callback) {\n        if (callback != null)\n          callback();\n      });\n    } finally {\n      delete root._bokeh_onload_callbacks\n    }\n    console.debug(\"Bokeh: all callbacks have finished\");\n  }\n\n  function load_libs(css_urls, js_urls, callback) {\n    if (css_urls == null) css_urls = [];\n    if (js_urls == null) js_urls = [];\n\n    root._bokeh_onload_callbacks.push(callback);\n    if (root._bokeh_is_loading > 0) {\n      console.debug(\"Bokeh: BokehJS is being loaded, scheduling callback at\", now());\n      return null;\n    }\n    if (js_urls == null || js_urls.length === 0) {\n      run_callbacks();\n      return null;\n    }\n    console.debug(\"Bokeh: BokehJS not loaded, scheduling load and callback at\", now());\n    root._bokeh_is_loading = css_urls.length + js_urls.length;\n\n    function on_load() {\n      root._bokeh_is_loading--;\n      if (root._bokeh_is_loading === 0) {\n        console.debug(\"Bokeh: all BokehJS libraries/stylesheets loaded\");\n        run_callbacks()\n      }\n    }\n\n    function on_error() {\n      console.error(\"failed to load \" + url);\n    }\n\n    for (var i = 0; i < css_urls.length; i++) {\n      var url = css_urls[i];\n      const element = document.createElement(\"link\");\n      element.onload = on_load;\n      element.onerror = on_error;\n      element.rel = \"stylesheet\";\n      element.type = \"text/css\";\n      element.href = url;\n      console.debug(\"Bokeh: injecting link tag for BokehJS stylesheet: \", url);\n      document.body.appendChild(element);\n    }\n\n    for (var i = 0; i < js_urls.length; i++) {\n      var url = js_urls[i];\n      var element = document.createElement('script');\n      element.onload = on_load;\n      element.onerror = on_error;\n      element.async = false;\n      element.src = url;\n      console.debug(\"Bokeh: injecting script tag for BokehJS library: \", url);\n      document.head.appendChild(element);\n    }\n  };var element = document.getElementById(\"1001\");\n  if (element == null) {\n    console.error(\"Bokeh: ERROR: autoload.js configured with elementid '1001' but no matching script tag was found. \")\n    return false;\n  }\n\n  function inject_raw_css(css) {\n    const element = document.createElement(\"style\");\n    element.appendChild(document.createTextNode(css));\n    document.body.appendChild(element);\n  }\n\n  var js_urls = [\"https://cdn.pydata.org/bokeh/release/bokeh-1.3.4.min.js\", \"https://cdn.pydata.org/bokeh/release/bokeh-widgets-1.3.4.min.js\", \"https://cdn.pydata.org/bokeh/release/bokeh-tables-1.3.4.min.js\", \"https://cdn.pydata.org/bokeh/release/bokeh-gl-1.3.4.min.js\"];\n  var css_urls = [];\n\n  var inline_js = [\n    function(Bokeh) {\n      Bokeh.set_log_level(\"info\");\n    },\n    \n    function(Bokeh) {\n      \n    },\n    function(Bokeh) {} // ensure no trailing comma for IE\n  ];\n\n  function run_inline_js() {\n    \n    if ((root.Bokeh !== undefined) || (force === true)) {\n      for (var i = 0; i < inline_js.length; i++) {\n        inline_js[i].call(root, root.Bokeh);\n      }if (force === true) {\n        display_loaded();\n      }} else if (Date.now() < root._bokeh_timeout) {\n      setTimeout(run_inline_js, 100);\n    } else if (!root._bokeh_failed_load) {\n      console.log(\"Bokeh: BokehJS failed to load within specified timeout.\");\n      root._bokeh_failed_load = true;\n    } else if (force !== true) {\n      var cell = $(document.getElementById(\"1001\")).parents('.cell').data().cell;\n      cell.output_area.append_execute_result(NB_LOAD_WARNING)\n    }\n\n  }\n\n  if (root._bokeh_is_loading === 0) {\n    console.debug(\"Bokeh: BokehJS loaded, going straight to plotting\");\n    run_inline_js();\n  } else {\n    load_libs(css_urls, js_urls, function() {\n      console.debug(\"Bokeh: BokehJS plotting callback run at\", now());\n      run_inline_js();\n    });\n  }\n}(window));"
     },
     "metadata": {},
     "output_type": "display_data"
    }
   ],
   "source": [
    "import numpy as np\n",
    "import pandas as pd\n",
    "\n",
    "from bokeh.io import output_notebook\n",
    "from bokeh.models import ColumnDataSource\n",
    "from bokeh.plotting import figure, show\n",
    "\n",
    "output_notebook()"
   ]
  },
  {
   "cell_type": "markdown",
   "metadata": {},
   "source": [
    "### The Dataset"
   ]
  },
  {
   "cell_type": "markdown",
   "metadata": {},
   "source": [
    "The Census Income dataset has 48,842 entries. Each entry contains the following information about an individual:"
   ]
  },
  {
   "cell_type": "code",
   "execution_count": 2,
   "metadata": {},
   "outputs": [],
   "source": [
    "COLUMNS = [\n",
    "    \"age\",              # (16,Inf]\n",
    "    \"workclass\",        # Private Self-emp-not-inc Self-emp-inc Federal-gov Local-gov State-gov Without-pay Never-worked\n",
    "    \"fnlwgt\",           # [-Inf,Inf]\n",
    "    \"education\",        # Preschool 1st-4th 5th-6th 7th-8th 9th 10th 11th 12th HS-grad Assoc-acdm Assoc-voc Some-college Prof-school Bachelors Masters Doctorate\n",
    "    \"educational-num\",  # [0,Inf]\n",
    "    \"marital-status\",   # Married-civ-spouse Divorced Never-married Separated Widowed Married-spouse-absent Married-AF-spouse\n",
    "    \"occupation\",       # Tech-support Craft-repair Other-service Sales Exec-managerial Prof-specialty Handlers-cleaners Machine-op-inspct Adm-clerical Farming-fishing Transport-moving Priv-house-serv Protective-serv Armed-Forces\n",
    "    \"relationship\",     # Wife Own-child Husband Not-in-family Other-relative Unmarried\n",
    "    \"race\",             # White Asian-Pac-Islander Amer-Indian-Eskimo Other Black\n",
    "    \"gender\",           # Female Male\n",
    "    \"capital-gain\",     # [0,Inf]\n",
    "    \"capital-loss\",     # [0,Inf]\n",
    "    \"hours-per-week\",   # [0,168]\n",
    "    \"native-country\",   # United-States Cambodia England Puerto-Rico Canada Germany Outlying-US(Guam-USVI-etc) India Japan Greece South China Cuba Iran Honduras Philippines Italy Poland Jamaica Vietnam Mexico Portugal Ireland France Dominican-Republic Laos Ecuador Taiwan Haiti Columbia Hungary Guatemala Nicaragua Scotland Thailand Yugoslavia El-Salvador Trinadad&Tobago Peru Hong Holand-Netherlands\n",
    "    \"income\"            # <=50K >50K\n",
    "]"
   ]
  },
  {
   "cell_type": "code",
   "execution_count": 3,
   "metadata": {},
   "outputs": [
    {
     "data": {
      "text/html": [
       "<div>\n",
       "<style scoped>\n",
       "    .dataframe tbody tr th:only-of-type {\n",
       "        vertical-align: middle;\n",
       "    }\n",
       "\n",
       "    .dataframe tbody tr th {\n",
       "        vertical-align: top;\n",
       "    }\n",
       "\n",
       "    .dataframe thead th {\n",
       "        text-align: right;\n",
       "    }\n",
       "</style>\n",
       "<table border=\"1\" class=\"dataframe\">\n",
       "  <thead>\n",
       "    <tr style=\"text-align: right;\">\n",
       "      <th></th>\n",
       "      <th>age</th>\n",
       "      <th>workclass</th>\n",
       "      <th>fnlwgt</th>\n",
       "      <th>education</th>\n",
       "      <th>educational-num</th>\n",
       "      <th>marital-status</th>\n",
       "      <th>occupation</th>\n",
       "      <th>relationship</th>\n",
       "      <th>race</th>\n",
       "      <th>gender</th>\n",
       "      <th>capital-gain</th>\n",
       "      <th>capital-loss</th>\n",
       "      <th>hours-per-week</th>\n",
       "      <th>native-country</th>\n",
       "      <th>income</th>\n",
       "    </tr>\n",
       "  </thead>\n",
       "  <tbody>\n",
       "    <tr>\n",
       "      <td>0</td>\n",
       "      <td>25</td>\n",
       "      <td>Private</td>\n",
       "      <td>226802</td>\n",
       "      <td>11th</td>\n",
       "      <td>7</td>\n",
       "      <td>Never-married</td>\n",
       "      <td>Machine-op-inspct</td>\n",
       "      <td>Own-child</td>\n",
       "      <td>Black</td>\n",
       "      <td>Male</td>\n",
       "      <td>0</td>\n",
       "      <td>0</td>\n",
       "      <td>40</td>\n",
       "      <td>United-States</td>\n",
       "      <td>&lt;=50K</td>\n",
       "    </tr>\n",
       "    <tr>\n",
       "      <td>1</td>\n",
       "      <td>38</td>\n",
       "      <td>Private</td>\n",
       "      <td>89814</td>\n",
       "      <td>HS-grad</td>\n",
       "      <td>9</td>\n",
       "      <td>Married-civ-spouse</td>\n",
       "      <td>Farming-fishing</td>\n",
       "      <td>Husband</td>\n",
       "      <td>White</td>\n",
       "      <td>Male</td>\n",
       "      <td>0</td>\n",
       "      <td>0</td>\n",
       "      <td>50</td>\n",
       "      <td>United-States</td>\n",
       "      <td>&lt;=50K</td>\n",
       "    </tr>\n",
       "    <tr>\n",
       "      <td>2</td>\n",
       "      <td>28</td>\n",
       "      <td>Local-gov</td>\n",
       "      <td>336951</td>\n",
       "      <td>Assoc-acdm</td>\n",
       "      <td>12</td>\n",
       "      <td>Married-civ-spouse</td>\n",
       "      <td>Protective-serv</td>\n",
       "      <td>Husband</td>\n",
       "      <td>White</td>\n",
       "      <td>Male</td>\n",
       "      <td>0</td>\n",
       "      <td>0</td>\n",
       "      <td>40</td>\n",
       "      <td>United-States</td>\n",
       "      <td>&gt;50K</td>\n",
       "    </tr>\n",
       "    <tr>\n",
       "      <td>3</td>\n",
       "      <td>44</td>\n",
       "      <td>Private</td>\n",
       "      <td>160323</td>\n",
       "      <td>Some-college</td>\n",
       "      <td>10</td>\n",
       "      <td>Married-civ-spouse</td>\n",
       "      <td>Machine-op-inspct</td>\n",
       "      <td>Husband</td>\n",
       "      <td>Black</td>\n",
       "      <td>Male</td>\n",
       "      <td>7688</td>\n",
       "      <td>0</td>\n",
       "      <td>40</td>\n",
       "      <td>United-States</td>\n",
       "      <td>&gt;50K</td>\n",
       "    </tr>\n",
       "    <tr>\n",
       "      <td>4</td>\n",
       "      <td>18</td>\n",
       "      <td>?</td>\n",
       "      <td>103497</td>\n",
       "      <td>Some-college</td>\n",
       "      <td>10</td>\n",
       "      <td>Never-married</td>\n",
       "      <td>?</td>\n",
       "      <td>Own-child</td>\n",
       "      <td>White</td>\n",
       "      <td>Female</td>\n",
       "      <td>0</td>\n",
       "      <td>0</td>\n",
       "      <td>30</td>\n",
       "      <td>United-States</td>\n",
       "      <td>&lt;=50K</td>\n",
       "    </tr>\n",
       "  </tbody>\n",
       "</table>\n",
       "</div>"
      ],
      "text/plain": [
       "   age  workclass  fnlwgt     education  educational-num      marital-status  \\\n",
       "0   25    Private  226802          11th                7       Never-married   \n",
       "1   38    Private   89814       HS-grad                9  Married-civ-spouse   \n",
       "2   28  Local-gov  336951    Assoc-acdm               12  Married-civ-spouse   \n",
       "3   44    Private  160323  Some-college               10  Married-civ-spouse   \n",
       "4   18          ?  103497  Some-college               10       Never-married   \n",
       "\n",
       "          occupation relationship   race  gender  capital-gain  capital-loss  \\\n",
       "0  Machine-op-inspct    Own-child  Black    Male             0             0   \n",
       "1    Farming-fishing      Husband  White    Male             0             0   \n",
       "2    Protective-serv      Husband  White    Male             0             0   \n",
       "3  Machine-op-inspct      Husband  Black    Male          7688             0   \n",
       "4                  ?    Own-child  White  Female             0             0   \n",
       "\n",
       "   hours-per-week native-country income  \n",
       "0              40  United-States  <=50K  \n",
       "1              50  United-States  <=50K  \n",
       "2              40  United-States   >50K  \n",
       "3              40  United-States   >50K  \n",
       "4              30  United-States  <=50K  "
      ]
     },
     "execution_count": 3,
     "metadata": {},
     "output_type": "execute_result"
    }
   ],
   "source": [
    "dataframe = pd.read_csv(\"./Dataset.data.gz\", names=COLUMNS, sep=\" \")\n",
    "dataframe.head()"
   ]
  },
  {
   "cell_type": "markdown",
   "metadata": {},
   "source": [
    "### Helpers"
   ]
  },
  {
   "cell_type": "code",
   "execution_count": 4,
   "metadata": {},
   "outputs": [],
   "source": [
    "%run ./helpers.py"
   ]
  },
  {
   "cell_type": "markdown",
   "metadata": {},
   "source": [
    "### Exploratory Analysis"
   ]
  },
  {
   "cell_type": "code",
   "execution_count": 5,
   "metadata": {},
   "outputs": [
    {
     "data": {
      "text/plain": [
       "(48842, 15)"
      ]
     },
     "execution_count": 5,
     "metadata": {},
     "output_type": "execute_result"
    }
   ],
   "source": [
    "dataframe.shape"
   ]
  },
  {
   "cell_type": "markdown",
   "metadata": {},
   "source": [
    "#### age"
   ]
  },
  {
   "cell_type": "markdown",
   "metadata": {},
   "source": [
    "The age of an individual. Integer greater than 0."
   ]
  },
  {
   "cell_type": "code",
   "execution_count": 6,
   "metadata": {},
   "outputs": [
    {
     "name": "stdout",
     "output_type": "stream",
     "text": [
      "\n",
      "Age statistics:\n",
      "\n",
      "count    48842.000000\n",
      "mean        38.643585\n",
      "std         13.710510\n",
      "min         17.000000\n",
      "25%         28.000000\n",
      "50%         37.000000\n",
      "75%         48.000000\n",
      "max         90.000000\n",
      "Name: age, dtype: float64\n",
      "\n"
     ]
    },
    {
     "data": {
      "text/html": [
       "\n",
       "\n",
       "\n",
       "\n",
       "\n",
       "\n",
       "  <div class=\"bk-root\" id=\"41257680-bf1e-40ae-9332-6dcb5aad0f1e\" data-root-id=\"1002\"></div>\n"
      ]
     },
     "metadata": {},
     "output_type": "display_data"
    },
    {
     "data": {
      "application/javascript": [
       "(function(root) {\n",
       "  function embed_document(root) {\n",
       "    \n",
       "  var docs_json = {\"18c75dbd-364f-418b-93cb-a1a81af6453c\":{\"roots\":{\"references\":[{\"attributes\":{\"background_fill_color\":{\"value\":\"#fafafa\"},\"below\":[{\"id\":\"1013\",\"type\":\"LinearAxis\"}],\"center\":[{\"id\":\"1017\",\"type\":\"Grid\"},{\"id\":\"1022\",\"type\":\"Grid\"}],\"left\":[{\"id\":\"1018\",\"type\":\"LinearAxis\"}],\"renderers\":[{\"id\":\"1027\",\"type\":\"GlyphRenderer\"}],\"title\":{\"id\":\"1003\",\"type\":\"Title\"},\"toolbar\":{\"id\":\"1023\",\"type\":\"Toolbar\"},\"x_range\":{\"id\":\"1005\",\"type\":\"DataRange1d\"},\"x_scale\":{\"id\":\"1009\",\"type\":\"LinearScale\"},\"y_range\":{\"id\":\"1007\",\"type\":\"DataRange1d\"},\"y_scale\":{\"id\":\"1011\",\"type\":\"LinearScale\"}},\"id\":\"1002\",\"subtype\":\"Figure\",\"type\":\"Plot\"},{\"attributes\":{\"axis_label\":\"Frequency\",\"formatter\":{\"id\":\"1032\",\"type\":\"BasicTickFormatter\"},\"ticker\":{\"id\":\"1019\",\"type\":\"BasicTicker\"}},\"id\":\"1018\",\"type\":\"LinearAxis\"},{\"attributes\":{},\"id\":\"1019\",\"type\":\"BasicTicker\"},{\"attributes\":{\"dimension\":1,\"grid_line_color\":\"white\",\"ticker\":{\"id\":\"1019\",\"type\":\"BasicTicker\"}},\"id\":\"1022\",\"type\":\"Grid\"},{\"attributes\":{\"bottom\":{\"value\":0},\"fill_alpha\":{\"value\":0.1},\"fill_color\":{\"value\":\"#1f77b4\"},\"left\":{\"field\":\"left\"},\"line_alpha\":{\"value\":0.1},\"line_color\":{\"value\":\"#1f77b4\"},\"right\":{\"field\":\"right\"},\"top\":{\"field\":\"top\"}},\"id\":\"1026\",\"type\":\"Quad\"},{\"attributes\":{\"active_drag\":\"auto\",\"active_inspect\":\"auto\",\"active_multi\":null,\"active_scroll\":\"auto\",\"active_tap\":\"auto\"},\"id\":\"1023\",\"type\":\"Toolbar\"},{\"attributes\":{\"data_source\":{\"id\":\"1024\",\"type\":\"ColumnDataSource\"},\"glyph\":{\"id\":\"1025\",\"type\":\"Quad\"},\"hover_glyph\":null,\"muted_glyph\":null,\"nonselection_glyph\":{\"id\":\"1026\",\"type\":\"Quad\"},\"selection_glyph\":null,\"view\":{\"id\":\"1028\",\"type\":\"CDSView\"}},\"id\":\"1027\",\"type\":\"GlyphRenderer\"},{\"attributes\":{\"source\":{\"id\":\"1024\",\"type\":\"ColumnDataSource\"}},\"id\":\"1028\",\"type\":\"CDSView\"},{\"attributes\":{\"callback\":null},\"id\":\"1005\",\"type\":\"DataRange1d\"},{\"attributes\":{},\"id\":\"1032\",\"type\":\"BasicTickFormatter\"},{\"attributes\":{},\"id\":\"1034\",\"type\":\"UnionRenderers\"},{\"attributes\":{\"text\":\"Person's age histogram\"},\"id\":\"1003\",\"type\":\"Title\"},{\"attributes\":{\"callback\":null,\"data\":{\"left\":{\"__ndarray__\":\"AAAAAAAAMUDJZ91givwxQJHPusEU+TJAWjeYIp/1M0Ajn3WDKfI0QOsGU+Sz7jVAtG4wRT7rNkB81g2myOc3QEU+6wZT5DhADqbIZ93gOUDWDabIZ906QJ91gyny2TtAaN1ginzWPEAwRT7rBtM9QPmsG0yRzz5AwhT5rBvMP0BFPusGU2RAQCryWTeY4kBADqbIZ91gQUDyWTeYIt9BQNYNpshnXUJAu8EU+azbQkCfdYMp8llDQIQp8lk32ENAaN1ginxWREBMkc+6wdREQDBFPusGU0VAFfmsG0zRRUD5rBtMkU9GQN5ginzWzUZAwhT5rBtMR0CmyGfdYMpHQIp81g2mSEhAbzBFPuvGSEBT5LNuMEVJQDeYIp91w0lAHEyRz7pBSkAAAAAAAMBKQOSzbjBFPktAyWfdYIq8S0CtG0yRzzpMQJHPusEUuUxAdoMp8lk3TUBaN5gin7VNQD7rBlPkM05AI591gymyTkAHU+SzbjBPQOsGU+Szrk9AaN1ginwWUEBaN5gin1VQQEyRz7rBlFBAPusGU+TTUEAwRT7rBhNRQCKfdYMpUlFAFfmsG0yRUUAHU+SzbtBRQPmsG0yRD1JA7AZT5LNOUkDeYIp81o1SQNC6wRT5zFJAwhT5rBsMU0C0bjBFPktTQKbIZ91gilNAmCKfdYPJU0CKfNYNpghUQH3WDabIR1RAbzBFPuuGVEBhinzWDcZUQFPks24wBVVART7rBlNEVUA3mCKfdYNVQCryWTeYwlVAHEyRz7oBVkAOpshn3UBWQA==\",\"dtype\":\"float64\",\"shape\":[74]},\"right\":{\"__ndarray__\":\"yWfdYIr8MUCRz7rBFPkyQFo3mCKf9TNAI591gynyNEDrBlPks+41QLRuMEU+6zZAfNYNpsjnN0BFPusGU+Q4QA6myGfd4DlA1g2myGfdOkCfdYMp8tk7QGjdYIp81jxAMEU+6wbTPUD5rBtMkc8+QMIU+awbzD9ART7rBlNkQEAq8lk3mOJAQA6myGfdYEFA8lk3mCLfQUDWDabIZ11CQLvBFPms20JAn3WDKfJZQ0CEKfJZN9hDQGjdYIp8VkRATJHPusHUREAwRT7rBlNFQBX5rBtM0UVA+awbTJFPRkDeYIp81s1GQMIU+awbTEdApshn3WDKR0CKfNYNpkhIQG8wRT7rxkhAU+SzbjBFSUA3mCKfdcNJQBxMkc+6QUpAAAAAAADASkDks24wRT5LQMln3WCKvEtArRtMkc86TECRz7rBFLlMQHaDKfJZN01AWjeYIp+1TUA+6wZT5DNOQCOfdYMpsk5AB1Pks24wT0DrBlPks65PQGjdYIp8FlBAWjeYIp9VUEBMkc+6wZRQQD7rBlPk01BAMEU+6wYTUUAin3WDKVJRQBX5rBtMkVFAB1Pks27QUUD5rBtMkQ9SQOwGU+SzTlJA3mCKfNaNUkDQusEU+cxSQMIU+awbDFNAtG4wRT5LU0CmyGfdYIpTQJgin3WDyVNAinzWDaYIVEB91g2myEdUQG8wRT7rhlRAYYp81g3GVEBT5LNuMAVVQEU+6wZTRFVAN5gin3WDVUAq8lk3mMJVQBxMkc+6AVZADqbIZ91AVkAAAAAAAIBWQA==\",\"dtype\":\"float64\",\"shape\":[74]},\"top\":[595,862,1053,1113,1096,1178,1329,1206,1195,1153,1232,1280,1223,1278,1325,1253,1335,1303,1337,1348,1280,1264,1206,1187,1235,1165,1104,1067,1096,1097,1081,845,847,866,877,738,711,613,621,564,551,555,523,449,450,394,335,340,284,237,238,178,149,133,118,120,108,77,72,69,54,34,30,38,37,15,11,13,5,1,3,6,2,55]},\"selected\":{\"id\":\"1035\",\"type\":\"Selection\"},\"selection_policy\":{\"id\":\"1034\",\"type\":\"UnionRenderers\"}},\"id\":\"1024\",\"type\":\"ColumnDataSource\"},{\"attributes\":{},\"id\":\"1035\",\"type\":\"Selection\"},{\"attributes\":{},\"id\":\"1030\",\"type\":\"BasicTickFormatter\"},{\"attributes\":{\"callback\":null,\"start\":0},\"id\":\"1007\",\"type\":\"DataRange1d\"},{\"attributes\":{},\"id\":\"1009\",\"type\":\"LinearScale\"},{\"attributes\":{},\"id\":\"1011\",\"type\":\"LinearScale\"},{\"attributes\":{\"axis_label\":\"Age\",\"formatter\":{\"id\":\"1030\",\"type\":\"BasicTickFormatter\"},\"ticker\":{\"id\":\"1014\",\"type\":\"BasicTicker\"}},\"id\":\"1013\",\"type\":\"LinearAxis\"},{\"attributes\":{\"bottom\":{\"value\":0},\"fill_alpha\":{\"value\":0.5},\"fill_color\":{\"value\":\"navy\"},\"left\":{\"field\":\"left\"},\"line_alpha\":{\"value\":0.5},\"line_color\":{\"value\":\"white\"},\"right\":{\"field\":\"right\"},\"top\":{\"field\":\"top\"}},\"id\":\"1025\",\"type\":\"Quad\"},{\"attributes\":{},\"id\":\"1014\",\"type\":\"BasicTicker\"},{\"attributes\":{\"grid_line_color\":\"white\",\"ticker\":{\"id\":\"1014\",\"type\":\"BasicTicker\"}},\"id\":\"1017\",\"type\":\"Grid\"}],\"root_ids\":[\"1002\"]},\"title\":\"Bokeh Application\",\"version\":\"1.3.4\"}};\n",
       "  var render_items = [{\"docid\":\"18c75dbd-364f-418b-93cb-a1a81af6453c\",\"roots\":{\"1002\":\"41257680-bf1e-40ae-9332-6dcb5aad0f1e\"}}];\n",
       "  root.Bokeh.embed.embed_items_notebook(docs_json, render_items);\n",
       "\n",
       "  }\n",
       "  if (root.Bokeh !== undefined) {\n",
       "    embed_document(root);\n",
       "  } else {\n",
       "    var attempts = 0;\n",
       "    var timer = setInterval(function(root) {\n",
       "      if (root.Bokeh !== undefined) {\n",
       "        embed_document(root);\n",
       "        clearInterval(timer);\n",
       "      }\n",
       "      attempts++;\n",
       "      if (attempts > 100) {\n",
       "        console.log(\"Bokeh: ERROR: Unable to run BokehJS code because BokehJS library is missing\");\n",
       "        clearInterval(timer);\n",
       "      }\n",
       "    }, 10, root)\n",
       "  }\n",
       "})(window);"
      ],
      "application/vnd.bokehjs_exec.v0+json": ""
     },
     "metadata": {
      "application/vnd.bokehjs_exec.v0+json": {
       "id": "1002"
      }
     },
     "output_type": "display_data"
    }
   ],
   "source": [
    "age = dataframe[\"age\"]\n",
    "\n",
    "print(\"\\nAge statistics:\\n\\n\", age.describe(), \"\\n\", sep=\"\")\n",
    "\n",
    "hist, edges = np.histogram(age, bins=len(dataframe[\"age\"].unique()))\n",
    "plot = make_histogram(\"Person's age histogram\", hist, edges, \"Age\")\n",
    "show(plot)"
   ]
  },
  {
   "cell_type": "code",
   "execution_count": 7,
   "metadata": {},
   "outputs": [
    {
     "data": {
      "text/html": [
       "\n",
       "\n",
       "\n",
       "\n",
       "\n",
       "\n",
       "  <div class=\"bk-root\" id=\"c646f357-91ca-41b1-b9ac-42467a1ecec2\" data-root-id=\"1078\"></div>\n"
      ]
     },
     "metadata": {},
     "output_type": "display_data"
    },
    {
     "data": {
      "application/javascript": [
       "(function(root) {\n",
       "  function embed_document(root) {\n",
       "    \n",
       "  var docs_json = {\"6235ccd4-39c3-41a5-bd05-dea3cf42738c\":{\"roots\":{\"references\":[{\"attributes\":{\"below\":[{\"id\":\"1089\",\"type\":\"LinearAxis\"}],\"center\":[{\"id\":\"1093\",\"type\":\"Grid\"},{\"id\":\"1097\",\"type\":\"Grid\"},{\"id\":\"1122\",\"type\":\"Legend\"}],\"left\":[{\"id\":\"1094\",\"type\":\"CategoricalAxis\"}],\"plot_height\":300,\"renderers\":[{\"id\":\"1114\",\"type\":\"GlyphRenderer\"},{\"id\":\"1127\",\"type\":\"GlyphRenderer\"}],\"title\":{\"id\":\"1079\",\"type\":\"Title\"},\"toolbar\":{\"id\":\"1104\",\"type\":\"Toolbar\"},\"x_range\":{\"id\":\"1081\",\"type\":\"DataRange1d\"},\"x_scale\":{\"id\":\"1085\",\"type\":\"LinearScale\"},\"y_range\":{\"id\":\"1083\",\"type\":\"FactorRange\"},\"y_scale\":{\"id\":\"1087\",\"type\":\"CategoricalScale\"}},\"id\":\"1078\",\"subtype\":\"Figure\",\"type\":\"Plot\"},{\"attributes\":{},\"id\":\"1154\",\"type\":\"Selection\"},{\"attributes\":{},\"id\":\"1102\",\"type\":\"ResetTool\"},{\"attributes\":{},\"id\":\"1103\",\"type\":\"HelpTool\"},{\"attributes\":{},\"id\":\"1101\",\"type\":\"SaveTool\"},{\"attributes\":{\"overlay\":{\"id\":\"1121\",\"type\":\"BoxAnnotation\"}},\"id\":\"1100\",\"type\":\"BoxZoomTool\"},{\"attributes\":{\"active_drag\":\"auto\",\"active_inspect\":\"auto\",\"active_multi\":null,\"active_scroll\":\"auto\",\"active_tap\":\"auto\",\"tools\":[{\"id\":\"1098\",\"type\":\"PanTool\"},{\"id\":\"1099\",\"type\":\"WheelZoomTool\"},{\"id\":\"1100\",\"type\":\"BoxZoomTool\"},{\"id\":\"1101\",\"type\":\"SaveTool\"},{\"id\":\"1102\",\"type\":\"ResetTool\"},{\"id\":\"1103\",\"type\":\"HelpTool\"}]},\"id\":\"1104\",\"type\":\"Toolbar\"},{\"attributes\":{\"data_source\":{\"id\":\"1111\",\"type\":\"ColumnDataSource\"},\"glyph\":{\"id\":\"1112\",\"type\":\"HBar\"},\"hover_glyph\":null,\"muted_glyph\":null,\"nonselection_glyph\":{\"id\":\"1113\",\"type\":\"HBar\"},\"selection_glyph\":null,\"view\":{\"id\":\"1115\",\"type\":\"CDSView\"}},\"id\":\"1114\",\"type\":\"GlyphRenderer\"},{\"attributes\":{\"source\":{\"id\":\"1111\",\"type\":\"ColumnDataSource\"}},\"id\":\"1115\",\"type\":\"CDSView\"},{\"attributes\":{\"formatter\":{\"id\":\"1117\",\"type\":\"BasicTickFormatter\"},\"ticker\":{\"id\":\"1090\",\"type\":\"BasicTicker\"}},\"id\":\"1089\",\"type\":\"LinearAxis\"},{\"attributes\":{},\"id\":\"1117\",\"type\":\"BasicTickFormatter\"},{\"attributes\":{},\"id\":\"1090\",\"type\":\"BasicTicker\"},{\"attributes\":{},\"id\":\"1119\",\"type\":\"CategoricalTickFormatter\"},{\"attributes\":{},\"id\":\"1095\",\"type\":\"CategoricalTicker\"},{\"attributes\":{\"bottom_units\":\"screen\",\"fill_alpha\":{\"value\":0.5},\"fill_color\":{\"value\":\"lightgrey\"},\"left_units\":\"screen\",\"level\":\"overlay\",\"line_alpha\":{\"value\":1.0},\"line_color\":{\"value\":\"black\"},\"line_dash\":[4,4],\"line_width\":{\"value\":2},\"render_mode\":\"css\",\"right_units\":\"screen\",\"top_units\":\"screen\"},\"id\":\"1121\",\"type\":\"BoxAnnotation\"},{\"attributes\":{},\"id\":\"1153\",\"type\":\"UnionRenderers\"},{\"attributes\":{\"items\":[{\"id\":\"1123\",\"type\":\"LegendItem\"},{\"id\":\"1137\",\"type\":\"LegendItem\"}]},\"id\":\"1122\",\"type\":\"Legend\"},{\"attributes\":{},\"id\":\"1087\",\"type\":\"CategoricalScale\"},{\"attributes\":{\"label\":{\"value\":\"<=50K\"},\"renderers\":[{\"id\":\"1114\",\"type\":\"GlyphRenderer\"}]},\"id\":\"1123\",\"type\":\"LegendItem\"},{\"attributes\":{\"callback\":null,\"factors\":[\"81-90\",\"71-80\",\"61-70\",\"51-60\",\"41-50\",\"31-40\",\"21-30\",\"17-20\"]},\"id\":\"1083\",\"type\":\"FactorRange\"},{\"attributes\":{\"callback\":null,\"data\":{\"right\":[3965,3608,2270,989,700,126,25,4],\"y\":[\"41-50\",\"31-40\",\"51-60\",\"21-30\",\"61-70\",\"71-80\",\"81-90\",\"17-20\"]},\"selected\":{\"id\":\"1154\",\"type\":\"Selection\"},\"selection_policy\":{\"id\":\"1153\",\"type\":\"UnionRenderers\"}},\"id\":\"1124\",\"type\":\"ColumnDataSource\"},{\"attributes\":{\"dimension\":1,\"ticker\":{\"id\":\"1095\",\"type\":\"CategoricalTicker\"}},\"id\":\"1097\",\"type\":\"Grid\"},{\"attributes\":{\"fill_alpha\":{\"value\":0.5},\"fill_color\":{\"value\":\"coral\"},\"height\":{\"value\":0.5},\"line_alpha\":{\"value\":0.5},\"line_color\":{\"value\":\"coral\"},\"right\":{\"field\":\"right\"},\"y\":{\"field\":\"y\"}},\"id\":\"1125\",\"type\":\"HBar\"},{\"attributes\":{\"formatter\":{\"id\":\"1119\",\"type\":\"CategoricalTickFormatter\"},\"ticker\":{\"id\":\"1095\",\"type\":\"CategoricalTicker\"}},\"id\":\"1094\",\"type\":\"CategoricalAxis\"},{\"attributes\":{\"fill_alpha\":{\"value\":0.1},\"fill_color\":{\"value\":\"#1f77b4\"},\"height\":{\"value\":0.5},\"line_alpha\":{\"value\":0.1},\"line_color\":{\"value\":\"#1f77b4\"},\"right\":{\"field\":\"right\"},\"y\":{\"field\":\"y\"}},\"id\":\"1126\",\"type\":\"HBar\"},{\"attributes\":{\"callback\":null},\"id\":\"1081\",\"type\":\"DataRange1d\"},{\"attributes\":{\"ticker\":{\"id\":\"1090\",\"type\":\"BasicTicker\"}},\"id\":\"1093\",\"type\":\"Grid\"},{\"attributes\":{\"data_source\":{\"id\":\"1124\",\"type\":\"ColumnDataSource\"},\"glyph\":{\"id\":\"1125\",\"type\":\"HBar\"},\"hover_glyph\":null,\"muted_glyph\":null,\"nonselection_glyph\":{\"id\":\"1126\",\"type\":\"HBar\"},\"selection_glyph\":null,\"view\":{\"id\":\"1128\",\"type\":\"CDSView\"}},\"id\":\"1127\",\"type\":\"GlyphRenderer\"},{\"attributes\":{},\"id\":\"1085\",\"type\":\"LinearScale\"},{\"attributes\":{},\"id\":\"1098\",\"type\":\"PanTool\"},{\"attributes\":{\"text\":\"Age group vs Income\"},\"id\":\"1079\",\"type\":\"Title\"},{\"attributes\":{\"source\":{\"id\":\"1124\",\"type\":\"ColumnDataSource\"}},\"id\":\"1128\",\"type\":\"CDSView\"},{\"attributes\":{},\"id\":\"1135\",\"type\":\"UnionRenderers\"},{\"attributes\":{},\"id\":\"1099\",\"type\":\"WheelZoomTool\"},{\"attributes\":{\"fill_alpha\":{\"value\":0.1},\"fill_color\":{\"value\":\"#1f77b4\"},\"height\":{\"value\":0.5},\"line_alpha\":{\"value\":0.1},\"line_color\":{\"value\":\"#1f77b4\"},\"right\":{\"field\":\"right\"},\"y\":{\"field\":\"y\"}},\"id\":\"1113\",\"type\":\"HBar\"},{\"attributes\":{},\"id\":\"1136\",\"type\":\"Selection\"},{\"attributes\":{\"fill_alpha\":{\"value\":0.5},\"fill_color\":{\"value\":\"navy\"},\"height\":{\"value\":0.5},\"line_alpha\":{\"value\":0.5},\"line_color\":{\"value\":\"navy\"},\"right\":{\"field\":\"right\"},\"y\":{\"field\":\"y\"}},\"id\":\"1112\",\"type\":\"HBar\"},{\"attributes\":{\"callback\":null,\"data\":{\"right\":[11181,9230,6438,3932,3619,2038,594,123],\"y\":[\"21-30\",\"31-40\",\"41-50\",\"51-60\",\"17-20\",\"61-70\",\"71-80\",\"81-90\"]},\"selected\":{\"id\":\"1136\",\"type\":\"Selection\"},\"selection_policy\":{\"id\":\"1135\",\"type\":\"UnionRenderers\"}},\"id\":\"1111\",\"type\":\"ColumnDataSource\"},{\"attributes\":{\"label\":{\"value\":\">50K\"},\"renderers\":[{\"id\":\"1127\",\"type\":\"GlyphRenderer\"}]},\"id\":\"1137\",\"type\":\"LegendItem\"}],\"root_ids\":[\"1078\"]},\"title\":\"Bokeh Application\",\"version\":\"1.3.4\"}};\n",
       "  var render_items = [{\"docid\":\"6235ccd4-39c3-41a5-bd05-dea3cf42738c\",\"roots\":{\"1078\":\"c646f357-91ca-41b1-b9ac-42467a1ecec2\"}}];\n",
       "  root.Bokeh.embed.embed_items_notebook(docs_json, render_items);\n",
       "\n",
       "  }\n",
       "  if (root.Bokeh !== undefined) {\n",
       "    embed_document(root);\n",
       "  } else {\n",
       "    var attempts = 0;\n",
       "    var timer = setInterval(function(root) {\n",
       "      if (root.Bokeh !== undefined) {\n",
       "        embed_document(root);\n",
       "        clearInterval(timer);\n",
       "      }\n",
       "      attempts++;\n",
       "      if (attempts > 100) {\n",
       "        console.log(\"Bokeh: ERROR: Unable to run BokehJS code because BokehJS library is missing\");\n",
       "        clearInterval(timer);\n",
       "      }\n",
       "    }, 10, root)\n",
       "  }\n",
       "})(window);"
      ],
      "application/vnd.bokehjs_exec.v0+json": ""
     },
     "metadata": {
      "application/vnd.bokehjs_exec.v0+json": {
       "id": "1078"
      }
     },
     "output_type": "display_data"
    }
   ],
   "source": [
    "categorical_age = pd.cut(\n",
    "    age, \n",
    "    bins=[16, 20, 30, 40, 50, 60, 70, 80, 90], \n",
    "    right=True,\n",
    "    labels=[\"17-20\", \"21-30\", \"31-40\", \"41-50\", \"51-60\", \"61-70\", \"71-80\", \"81-90\"]\n",
    ")\n",
    "\n",
    "class_index = dataframe[\"income\"] == \"<=50K\"\n",
    "plot = make_categorical_hbar(categorical_age, class_index, \"Age group vs Income\")\n",
    "show(plot)"
   ]
  },
  {
   "cell_type": "markdown",
   "metadata": {},
   "source": [
    "#### workclass"
   ]
  },
  {
   "cell_type": "markdown",
   "metadata": {},
   "source": [
    "A general term to represent the employment status of an individual."
   ]
  },
  {
   "cell_type": "code",
   "execution_count": 8,
   "metadata": {},
   "outputs": [],
   "source": [
    "workclass = dataframe[\"workclass\"]\n",
    "counts = workclass.value_counts()"
   ]
  },
  {
   "cell_type": "code",
   "execution_count": 9,
   "metadata": {},
   "outputs": [
    {
     "data": {
      "text/plain": [
       "Private             33906\n",
       "Self-emp-not-inc     3862\n",
       "Local-gov            3136\n",
       "?                    2799\n",
       "State-gov            1981\n",
       "Self-emp-inc         1695\n",
       "Federal-gov          1432\n",
       "Without-pay            21\n",
       "Never-worked           10\n",
       "Name: workclass, dtype: int64"
      ]
     },
     "execution_count": 9,
     "metadata": {},
     "output_type": "execute_result"
    }
   ],
   "source": [
    "counts"
   ]
  },
  {
   "cell_type": "code",
   "execution_count": 10,
   "metadata": {},
   "outputs": [
    {
     "data": {
      "text/html": [
       "\n",
       "\n",
       "\n",
       "\n",
       "\n",
       "\n",
       "  <div class=\"bk-root\" id=\"a9d214e8-8110-4f51-bddb-82d4c54f85bc\" data-root-id=\"1215\"></div>\n"
      ]
     },
     "metadata": {},
     "output_type": "display_data"
    },
    {
     "data": {
      "application/javascript": [
       "(function(root) {\n",
       "  function embed_document(root) {\n",
       "    \n",
       "  var docs_json = {\"5cef0be5-6cab-4fa7-aa76-aff5281a84f8\":{\"roots\":{\"references\":[{\"attributes\":{\"below\":[{\"id\":\"1226\",\"type\":\"LinearAxis\"}],\"center\":[{\"id\":\"1230\",\"type\":\"Grid\"},{\"id\":\"1234\",\"type\":\"Grid\"},{\"id\":\"1259\",\"type\":\"Legend\"}],\"left\":[{\"id\":\"1231\",\"type\":\"CategoricalAxis\"}],\"plot_height\":300,\"renderers\":[{\"id\":\"1251\",\"type\":\"GlyphRenderer\"},{\"id\":\"1264\",\"type\":\"GlyphRenderer\"}],\"title\":{\"id\":\"1216\",\"type\":\"Title\"},\"toolbar\":{\"id\":\"1241\",\"type\":\"Toolbar\"},\"x_range\":{\"id\":\"1218\",\"type\":\"DataRange1d\"},\"x_scale\":{\"id\":\"1222\",\"type\":\"LinearScale\"},\"y_range\":{\"id\":\"1220\",\"type\":\"FactorRange\"},\"y_scale\":{\"id\":\"1224\",\"type\":\"CategoricalScale\"}},\"id\":\"1215\",\"subtype\":\"Figure\",\"type\":\"Plot\"},{\"attributes\":{\"formatter\":{\"id\":\"1256\",\"type\":\"CategoricalTickFormatter\"},\"ticker\":{\"id\":\"1232\",\"type\":\"CategoricalTicker\"}},\"id\":\"1231\",\"type\":\"CategoricalAxis\"},{\"attributes\":{},\"id\":\"1240\",\"type\":\"HelpTool\"},{\"attributes\":{},\"id\":\"1232\",\"type\":\"CategoricalTicker\"},{\"attributes\":{},\"id\":\"1254\",\"type\":\"BasicTickFormatter\"},{\"attributes\":{\"overlay\":{\"id\":\"1258\",\"type\":\"BoxAnnotation\"}},\"id\":\"1237\",\"type\":\"BoxZoomTool\"},{\"attributes\":{\"active_drag\":\"auto\",\"active_inspect\":\"auto\",\"active_multi\":null,\"active_scroll\":\"auto\",\"active_tap\":\"auto\",\"tools\":[{\"id\":\"1235\",\"type\":\"PanTool\"},{\"id\":\"1236\",\"type\":\"WheelZoomTool\"},{\"id\":\"1237\",\"type\":\"BoxZoomTool\"},{\"id\":\"1238\",\"type\":\"SaveTool\"},{\"id\":\"1239\",\"type\":\"ResetTool\"},{\"id\":\"1240\",\"type\":\"HelpTool\"}]},\"id\":\"1241\",\"type\":\"Toolbar\"},{\"attributes\":{\"ticker\":{\"id\":\"1227\",\"type\":\"BasicTicker\"}},\"id\":\"1230\",\"type\":\"Grid\"},{\"attributes\":{\"fill_alpha\":{\"value\":0.5},\"fill_color\":{\"value\":\"navy\"},\"height\":{\"value\":0.5},\"line_alpha\":{\"value\":0.5},\"line_color\":{\"value\":\"navy\"},\"right\":{\"field\":\"right\"},\"y\":{\"field\":\"y\"}},\"id\":\"1249\",\"type\":\"HBar\"},{\"attributes\":{\"dimension\":1,\"ticker\":{\"id\":\"1232\",\"type\":\"CategoricalTicker\"}},\"id\":\"1234\",\"type\":\"Grid\"},{\"attributes\":{\"data_source\":{\"id\":\"1248\",\"type\":\"ColumnDataSource\"},\"glyph\":{\"id\":\"1249\",\"type\":\"HBar\"},\"hover_glyph\":null,\"muted_glyph\":null,\"nonselection_glyph\":{\"id\":\"1250\",\"type\":\"HBar\"},\"selection_glyph\":null,\"view\":{\"id\":\"1252\",\"type\":\"CDSView\"}},\"id\":\"1251\",\"type\":\"GlyphRenderer\"},{\"attributes\":{\"source\":{\"id\":\"1248\",\"type\":\"ColumnDataSource\"}},\"id\":\"1252\",\"type\":\"CDSView\"},{\"attributes\":{\"fill_alpha\":{\"value\":0.1},\"fill_color\":{\"value\":\"#1f77b4\"},\"height\":{\"value\":0.5},\"line_alpha\":{\"value\":0.1},\"line_color\":{\"value\":\"#1f77b4\"},\"right\":{\"field\":\"right\"},\"y\":{\"field\":\"y\"}},\"id\":\"1250\",\"type\":\"HBar\"},{\"attributes\":{},\"id\":\"1300\",\"type\":\"UnionRenderers\"},{\"attributes\":{},\"id\":\"1256\",\"type\":\"CategoricalTickFormatter\"},{\"attributes\":{},\"id\":\"1235\",\"type\":\"PanTool\"},{\"attributes\":{\"bottom_units\":\"screen\",\"fill_alpha\":{\"value\":0.5},\"fill_color\":{\"value\":\"lightgrey\"},\"left_units\":\"screen\",\"level\":\"overlay\",\"line_alpha\":{\"value\":1.0},\"line_color\":{\"value\":\"black\"},\"line_dash\":[4,4],\"line_width\":{\"value\":2},\"render_mode\":\"css\",\"right_units\":\"screen\",\"top_units\":\"screen\"},\"id\":\"1258\",\"type\":\"BoxAnnotation\"},{\"attributes\":{\"items\":[{\"id\":\"1260\",\"type\":\"LegendItem\"},{\"id\":\"1274\",\"type\":\"LegendItem\"}]},\"id\":\"1259\",\"type\":\"Legend\"},{\"attributes\":{},\"id\":\"1238\",\"type\":\"SaveTool\"},{\"attributes\":{},\"id\":\"1227\",\"type\":\"BasicTicker\"},{\"attributes\":{\"label\":{\"value\":\"<=50K\"},\"renderers\":[{\"id\":\"1251\",\"type\":\"GlyphRenderer\"}]},\"id\":\"1260\",\"type\":\"LegendItem\"},{\"attributes\":{},\"id\":\"1236\",\"type\":\"WheelZoomTool\"},{\"attributes\":{\"callback\":null,\"data\":{\"right\":[7387,1077,938,927,561,530,265,2],\"y\":[\"Private\",\"Self-emp-not-inc\",\"Self-emp-inc\",\"Local-gov\",\"Federal-gov\",\"State-gov\",\"?\",\"Without-pay\"]},\"selected\":{\"id\":\"1301\",\"type\":\"Selection\"},\"selection_policy\":{\"id\":\"1300\",\"type\":\"UnionRenderers\"}},\"id\":\"1261\",\"type\":\"ColumnDataSource\"},{\"attributes\":{},\"id\":\"1222\",\"type\":\"LinearScale\"},{\"attributes\":{\"fill_alpha\":{\"value\":0.5},\"fill_color\":{\"value\":\"coral\"},\"height\":{\"value\":0.5},\"line_alpha\":{\"value\":0.5},\"line_color\":{\"value\":\"coral\"},\"right\":{\"field\":\"right\"},\"y\":{\"field\":\"y\"}},\"id\":\"1262\",\"type\":\"HBar\"},{\"attributes\":{},\"id\":\"1224\",\"type\":\"CategoricalScale\"},{\"attributes\":{},\"id\":\"1239\",\"type\":\"ResetTool\"},{\"attributes\":{\"fill_alpha\":{\"value\":0.1},\"fill_color\":{\"value\":\"#1f77b4\"},\"height\":{\"value\":0.5},\"line_alpha\":{\"value\":0.1},\"line_color\":{\"value\":\"#1f77b4\"},\"right\":{\"field\":\"right\"},\"y\":{\"field\":\"y\"}},\"id\":\"1263\",\"type\":\"HBar\"},{\"attributes\":{\"formatter\":{\"id\":\"1254\",\"type\":\"BasicTickFormatter\"},\"ticker\":{\"id\":\"1227\",\"type\":\"BasicTicker\"}},\"id\":\"1226\",\"type\":\"LinearAxis\"},{\"attributes\":{\"data_source\":{\"id\":\"1261\",\"type\":\"ColumnDataSource\"},\"glyph\":{\"id\":\"1262\",\"type\":\"HBar\"},\"hover_glyph\":null,\"muted_glyph\":null,\"nonselection_glyph\":{\"id\":\"1263\",\"type\":\"HBar\"},\"selection_glyph\":null,\"view\":{\"id\":\"1265\",\"type\":\"CDSView\"}},\"id\":\"1264\",\"type\":\"GlyphRenderer\"},{\"attributes\":{\"callback\":null,\"factors\":[\"Without-pay\",\"State-gov\",\"Self-emp-not-inc\",\"Self-emp-inc\",\"Private\",\"Never-worked\",\"Local-gov\",\"Federal-gov\",\"?\"]},\"id\":\"1220\",\"type\":\"FactorRange\"},{\"attributes\":{\"source\":{\"id\":\"1261\",\"type\":\"ColumnDataSource\"}},\"id\":\"1265\",\"type\":\"CDSView\"},{\"attributes\":{},\"id\":\"1272\",\"type\":\"UnionRenderers\"},{\"attributes\":{\"callback\":null,\"data\":{\"right\":[26519,2785,2534,2209,1451,871,757,19,10],\"y\":[\"Private\",\"Self-emp-not-inc\",\"?\",\"Local-gov\",\"State-gov\",\"Federal-gov\",\"Self-emp-inc\",\"Without-pay\",\"Never-worked\"]},\"selected\":{\"id\":\"1273\",\"type\":\"Selection\"},\"selection_policy\":{\"id\":\"1272\",\"type\":\"UnionRenderers\"}},\"id\":\"1248\",\"type\":\"ColumnDataSource\"},{\"attributes\":{},\"id\":\"1273\",\"type\":\"Selection\"},{\"attributes\":{\"callback\":null},\"id\":\"1218\",\"type\":\"DataRange1d\"},{\"attributes\":{\"label\":{\"value\":\">50K\"},\"renderers\":[{\"id\":\"1264\",\"type\":\"GlyphRenderer\"}]},\"id\":\"1274\",\"type\":\"LegendItem\"},{\"attributes\":{},\"id\":\"1301\",\"type\":\"Selection\"},{\"attributes\":{\"text\":\"Work Class vs Income\"},\"id\":\"1216\",\"type\":\"Title\"}],\"root_ids\":[\"1215\"]},\"title\":\"Bokeh Application\",\"version\":\"1.3.4\"}};\n",
       "  var render_items = [{\"docid\":\"5cef0be5-6cab-4fa7-aa76-aff5281a84f8\",\"roots\":{\"1215\":\"a9d214e8-8110-4f51-bddb-82d4c54f85bc\"}}];\n",
       "  root.Bokeh.embed.embed_items_notebook(docs_json, render_items);\n",
       "\n",
       "  }\n",
       "  if (root.Bokeh !== undefined) {\n",
       "    embed_document(root);\n",
       "  } else {\n",
       "    var attempts = 0;\n",
       "    var timer = setInterval(function(root) {\n",
       "      if (root.Bokeh !== undefined) {\n",
       "        embed_document(root);\n",
       "        clearInterval(timer);\n",
       "      }\n",
       "      attempts++;\n",
       "      if (attempts > 100) {\n",
       "        console.log(\"Bokeh: ERROR: Unable to run BokehJS code because BokehJS library is missing\");\n",
       "        clearInterval(timer);\n",
       "      }\n",
       "    }, 10, root)\n",
       "  }\n",
       "})(window);"
      ],
      "application/vnd.bokehjs_exec.v0+json": ""
     },
     "metadata": {
      "application/vnd.bokehjs_exec.v0+json": {
       "id": "1215"
      }
     },
     "output_type": "display_data"
    }
   ],
   "source": [
    "class_index = dataframe[\"income\"] == \"<=50K\"\n",
    "plot = make_categorical_hbar(workclass, class_index, \"Work Class vs Income\")\n",
    "show(plot)"
   ]
  },
  {
   "cell_type": "markdown",
   "metadata": {},
   "source": [
    "`Self-emp-inc` implies that the individual owns their own company, which is a category with an almost infinite ceiling when it comes to earnings."
   ]
  },
  {
   "cell_type": "markdown",
   "metadata": {},
   "source": [
    "#### fnlwgt"
   ]
  },
  {
   "cell_type": "markdown",
   "metadata": {},
   "source": [
    "Final weight. In other words, this is the number of people the census believes the entry represents.\n",
    "Integer greater than 0."
   ]
  },
  {
   "cell_type": "code",
   "execution_count": 11,
   "metadata": {},
   "outputs": [
    {
     "name": "stdout",
     "output_type": "stream",
     "text": [
      "\n",
      "Final Weight statistics:\n",
      "\n",
      "count    4.884200e+04\n",
      "mean     1.896641e+05\n",
      "std      1.056040e+05\n",
      "min      1.228500e+04\n",
      "25%      1.175505e+05\n",
      "50%      1.781445e+05\n",
      "75%      2.376420e+05\n",
      "max      1.490400e+06\n",
      "Name: fnlwgt, dtype: float64\n",
      "\n"
     ]
    },
    {
     "data": {
      "text/html": [
       "\n",
       "\n",
       "\n",
       "\n",
       "\n",
       "\n",
       "  <div class=\"bk-root\" id=\"e81efb48-e871-4643-b7ae-53492cdca9ac\" data-root-id=\"1362\"></div>\n"
      ]
     },
     "metadata": {},
     "output_type": "display_data"
    },
    {
     "data": {
      "application/javascript": [
       "(function(root) {\n",
       "  function embed_document(root) {\n",
       "    \n",
       "  var docs_json = {\"199c5625-d8c1-48bf-b3ee-e60dd06a2cd4\":{\"roots\":{\"references\":[{\"attributes\":{\"background_fill_color\":{\"value\":\"#fafafa\"},\"below\":[{\"id\":\"1373\",\"type\":\"LinearAxis\"}],\"center\":[{\"id\":\"1377\",\"type\":\"Grid\"},{\"id\":\"1382\",\"type\":\"Grid\"}],\"left\":[{\"id\":\"1378\",\"type\":\"LinearAxis\"}],\"renderers\":[{\"id\":\"1387\",\"type\":\"GlyphRenderer\"}],\"title\":{\"id\":\"1363\",\"type\":\"Title\"},\"toolbar\":{\"id\":\"1383\",\"type\":\"Toolbar\"},\"x_range\":{\"id\":\"1365\",\"type\":\"DataRange1d\"},\"x_scale\":{\"id\":\"1369\",\"type\":\"LinearScale\"},\"y_range\":{\"id\":\"1367\",\"type\":\"DataRange1d\"},\"y_scale\":{\"id\":\"1371\",\"type\":\"LinearScale\"}},\"id\":\"1362\",\"subtype\":\"Figure\",\"type\":\"Plot\"},{\"attributes\":{},\"id\":\"1371\",\"type\":\"LinearScale\"},{\"attributes\":{},\"id\":\"1374\",\"type\":\"BasicTicker\"},{\"attributes\":{\"callback\":null,\"start\":0},\"id\":\"1367\",\"type\":\"DataRange1d\"},{\"attributes\":{\"callback\":null,\"data\":{\"left\":{\"__ndarray__\":\"AAAAAID+x0CamZmZiW7aQJqZmZnpbuRAZmZmZo6m60CamZmZGW/xQAAAAADsCvVAZmZmZr6m+EDNzMzMkEL8QDMzMzNj3v9AzczMzBq9AUEAAAAABIsDQTMzMzPtWAVBZmZmZtYmB0GZmZmZv/QIQc3MzMyowgpBAAAAAJKQDEEzMzMze14OQTMzMzMyFhBBzczMzCb9EEFmZmZmG+QRQQAAAAAQyxJBmZmZmQSyE0EzMzMz+ZgUQc3MzMztfxVBZmZmZuJmFkEAAAAA100XQZmZmZnLNBhBMzMzM8AbGUHNzMzMtAIaQWZmZmap6RpBAAAAAJ7QG0GZmZmZkrccQTMzMzOHnh1BzczMzHuFHkFmZmZmcGwfQQAAAICyKSBBzczMzCydIEGZmZkZpxAhQWZmZmYhhCFBMzMzs5v3IUEAAAAAFmsiQc3MzEyQ3iJBmZmZmQpSI0FmZmbmhMUjQTMzMzP/OCRBAAAAgHmsJEHNzMzM8x8lQZmZmRlukyVBZmZmZugGJkEzMzOzYnomQQAAAADd7SZBzczMTFdhJ0GZmZmZ0dQnQWZmZuZLSChBMzMzM8a7KEEAAACAQC8pQc3MzMy6oilBmZmZGTUWKkFmZmZmr4kqQTMzM7Mp/SpBAAAAAKRwK0HNzMxMHuQrQZmZmZmYVyxBZmZm5hLLLEEzMzMzjT4tQQAAAIAHsi1BzczMzIElLkGZmZkZ/JguQWZmZmZ2DC9BMzMzs/B/L0EAAAAAa/MvQWZmZqZyMzBBzczMzC9tMEEzMzPz7KYwQZmZmRmq4DBBAAAAQGcaMUFmZmZmJFQxQc3MzIzhjTFBMzMzs57HMUGZmZnZWwEyQQAAAAAZOzJBZmZmJtZ0MkHNzMxMk64yQTMzM3NQ6DJBmZmZmQ0iM0EAAADAylszQWZmZuaHlTNBzczMDEXPM0EzMzMzAgk0QZmZmVm/QjRBAAAAgHx8NEFmZmamObY0Qc3MzMz27zRBMzMz87MpNUGZmZkZcWM1QQAAAEAunTVBZmZmZuvWNUHNzMyMqBA2QTMzM7NlSjZBmZmZ2SKENkE=\",\"dtype\":\"float64\",\"shape\":[100]},\"right\":{\"__ndarray__\":\"mpmZmYlu2kCamZmZ6W7kQGZmZmaOputAmpmZmRlv8UAAAAAA7Ar1QGZmZma+pvhAzczMzJBC/EAzMzMzY97/QM3MzMwavQFBAAAAAASLA0EzMzMz7VgFQWZmZmbWJgdBmZmZmb/0CEHNzMzMqMIKQQAAAACSkAxBMzMzM3teDkEzMzMzMhYQQc3MzMwm/RBBZmZmZhvkEUEAAAAAEMsSQZmZmZkEshNBMzMzM/mYFEHNzMzM7X8VQWZmZmbiZhZBAAAAANdNF0GZmZmZyzQYQTMzMzPAGxlBzczMzLQCGkFmZmZmqekaQQAAAACe0BtBmZmZmZK3HEEzMzMzh54dQc3MzMx7hR5BZmZmZnBsH0EAAACAsikgQc3MzMwsnSBBmZmZGacQIUFmZmZmIYQhQTMzM7Ob9yFBAAAAABZrIkHNzMxMkN4iQZmZmZkKUiNBZmZm5oTFI0EzMzMz/zgkQQAAAIB5rCRBzczMzPMfJUGZmZkZbpMlQWZmZmboBiZBMzMzs2J6JkEAAAAA3e0mQc3MzExXYSdBmZmZmdHUJ0FmZmbmS0goQTMzMzPGuyhBAAAAgEAvKUHNzMzMuqIpQZmZmRk1FipBZmZmZq+JKkEzMzOzKf0qQQAAAACkcCtBzczMTB7kK0GZmZmZmFcsQWZmZuYSyyxBMzMzM40+LUEAAACAB7ItQc3MzMyBJS5BmZmZGfyYLkFmZmZmdgwvQTMzM7Pwfy9BAAAAAGvzL0FmZmamcjMwQc3MzMwvbTBBMzMz8+ymMEGZmZkZquAwQQAAAEBnGjFBZmZmZiRUMUHNzMyM4Y0xQTMzM7OexzFBmZmZ2VsBMkEAAAAAGTsyQWZmZibWdDJBzczMTJOuMkEzMzNzUOgyQZmZmZkNIjNBAAAAwMpbM0FmZmbmh5UzQc3MzAxFzzNBMzMzMwIJNEGZmZlZv0I0QQAAAIB8fDRBZmZmpjm2NEHNzMzM9u80QTMzM/OzKTVBmZmZGXFjNUEAAABALp01QWZmZmbr1jVBzczMjKgQNkEzMzOzZUo2QZmZmdkihDZBAAAAAOC9NkE=\",\"dtype\":\"float64\",\"shape\":[100]},\"top\":[479,2164,1531,1185,1394,1966,3068,2842,2549,2761,3483,4032,3883,2711,2100,1794,1406,1278,1154,949,914,811,870,617,536,385,409,277,210,196,136,123,88,83,45,49,56,32,28,33,37,13,12,20,14,9,16,10,4,16,7,4,3,6,4,0,2,5,2,2,3,3,1,2,1,1,0,0,1,3,1,0,1,1,1,1,0,1,0,1,0,1,1,0,1,0,0,0,0,0,0,1,0,0,0,0,0,1,0,2]},\"selected\":{\"id\":\"1422\",\"type\":\"Selection\"},\"selection_policy\":{\"id\":\"1421\",\"type\":\"UnionRenderers\"}},\"id\":\"1384\",\"type\":\"ColumnDataSource\"},{\"attributes\":{\"grid_line_color\":\"white\",\"ticker\":{\"id\":\"1374\",\"type\":\"BasicTicker\"}},\"id\":\"1377\",\"type\":\"Grid\"},{\"attributes\":{\"axis_label\":\"Frequency\",\"formatter\":{\"id\":\"1419\",\"type\":\"BasicTickFormatter\"},\"ticker\":{\"id\":\"1379\",\"type\":\"BasicTicker\"}},\"id\":\"1378\",\"type\":\"LinearAxis\"},{\"attributes\":{},\"id\":\"1379\",\"type\":\"BasicTicker\"},{\"attributes\":{\"dimension\":1,\"grid_line_color\":\"white\",\"ticker\":{\"id\":\"1379\",\"type\":\"BasicTicker\"}},\"id\":\"1382\",\"type\":\"Grid\"},{\"attributes\":{\"callback\":null},\"id\":\"1365\",\"type\":\"DataRange1d\"},{\"attributes\":{},\"id\":\"1369\",\"type\":\"LinearScale\"},{\"attributes\":{\"active_drag\":\"auto\",\"active_inspect\":\"auto\",\"active_multi\":null,\"active_scroll\":\"auto\",\"active_tap\":\"auto\"},\"id\":\"1383\",\"type\":\"Toolbar\"},{\"attributes\":{\"axis_label\":\"fnlwgt\",\"formatter\":{\"id\":\"1417\",\"type\":\"BasicTickFormatter\"},\"ticker\":{\"id\":\"1374\",\"type\":\"BasicTicker\"}},\"id\":\"1373\",\"type\":\"LinearAxis\"},{\"attributes\":{\"bottom\":{\"value\":0},\"fill_alpha\":{\"value\":0.5},\"fill_color\":{\"value\":\"navy\"},\"left\":{\"field\":\"left\"},\"line_alpha\":{\"value\":0.5},\"line_color\":{\"value\":\"white\"},\"right\":{\"field\":\"right\"},\"top\":{\"field\":\"top\"}},\"id\":\"1385\",\"type\":\"Quad\"},{\"attributes\":{\"bottom\":{\"value\":0},\"fill_alpha\":{\"value\":0.1},\"fill_color\":{\"value\":\"#1f77b4\"},\"left\":{\"field\":\"left\"},\"line_alpha\":{\"value\":0.1},\"line_color\":{\"value\":\"#1f77b4\"},\"right\":{\"field\":\"right\"},\"top\":{\"field\":\"top\"}},\"id\":\"1386\",\"type\":\"Quad\"},{\"attributes\":{\"text\":\"Final Weight histogram\"},\"id\":\"1363\",\"type\":\"Title\"},{\"attributes\":{\"data_source\":{\"id\":\"1384\",\"type\":\"ColumnDataSource\"},\"glyph\":{\"id\":\"1385\",\"type\":\"Quad\"},\"hover_glyph\":null,\"muted_glyph\":null,\"nonselection_glyph\":{\"id\":\"1386\",\"type\":\"Quad\"},\"selection_glyph\":null,\"view\":{\"id\":\"1388\",\"type\":\"CDSView\"}},\"id\":\"1387\",\"type\":\"GlyphRenderer\"},{\"attributes\":{},\"id\":\"1417\",\"type\":\"BasicTickFormatter\"},{\"attributes\":{},\"id\":\"1419\",\"type\":\"BasicTickFormatter\"},{\"attributes\":{},\"id\":\"1421\",\"type\":\"UnionRenderers\"},{\"attributes\":{},\"id\":\"1422\",\"type\":\"Selection\"},{\"attributes\":{\"source\":{\"id\":\"1384\",\"type\":\"ColumnDataSource\"}},\"id\":\"1388\",\"type\":\"CDSView\"}],\"root_ids\":[\"1362\"]},\"title\":\"Bokeh Application\",\"version\":\"1.3.4\"}};\n",
       "  var render_items = [{\"docid\":\"199c5625-d8c1-48bf-b3ee-e60dd06a2cd4\",\"roots\":{\"1362\":\"e81efb48-e871-4643-b7ae-53492cdca9ac\"}}];\n",
       "  root.Bokeh.embed.embed_items_notebook(docs_json, render_items);\n",
       "\n",
       "  }\n",
       "  if (root.Bokeh !== undefined) {\n",
       "    embed_document(root);\n",
       "  } else {\n",
       "    var attempts = 0;\n",
       "    var timer = setInterval(function(root) {\n",
       "      if (root.Bokeh !== undefined) {\n",
       "        embed_document(root);\n",
       "        clearInterval(timer);\n",
       "      }\n",
       "      attempts++;\n",
       "      if (attempts > 100) {\n",
       "        console.log(\"Bokeh: ERROR: Unable to run BokehJS code because BokehJS library is missing\");\n",
       "        clearInterval(timer);\n",
       "      }\n",
       "    }, 10, root)\n",
       "  }\n",
       "})(window);"
      ],
      "application/vnd.bokehjs_exec.v0+json": ""
     },
     "metadata": {
      "application/vnd.bokehjs_exec.v0+json": {
       "id": "1362"
      }
     },
     "output_type": "display_data"
    }
   ],
   "source": [
    "fnlwgt = dataframe[\"fnlwgt\"]\n",
    "\n",
    "print(\"\\nFinal Weight statistics:\\n\\n\", fnlwgt.describe(), \"\\n\", sep=\"\")\n",
    "\n",
    "hist, edges = np.histogram(fnlwgt, bins=100)\n",
    "plot = make_histogram(\"Final Weight histogram\", hist, edges, \"fnlwgt\")\n",
    "show(plot)"
   ]
  },
  {
   "cell_type": "markdown",
   "metadata": {},
   "source": [
    "#### education"
   ]
  },
  {
   "cell_type": "markdown",
   "metadata": {},
   "source": [
    "The highest level of education achieved by an individual."
   ]
  },
  {
   "cell_type": "code",
   "execution_count": 13,
   "metadata": {},
   "outputs": [
    {
     "data": {
      "text/plain": [
       "HS-grad         15784\n",
       "Some-college    10878\n",
       "Bachelors        8025\n",
       "Masters          2657\n",
       "Assoc-voc        2061\n",
       "11th             1812\n",
       "Assoc-acdm       1601\n",
       "10th             1389\n",
       "7th-8th           955\n",
       "Prof-school       834\n",
       "9th               756\n",
       "12th              657\n",
       "Doctorate         594\n",
       "5th-6th           509\n",
       "1st-4th           247\n",
       "Preschool          83\n",
       "Name: education, dtype: int64"
      ]
     },
     "execution_count": 13,
     "metadata": {},
     "output_type": "execute_result"
    }
   ],
   "source": [
    "education = dataframe[\"education\"]\n",
    "education.value_counts()"
   ]
  },
  {
   "cell_type": "code",
   "execution_count": 14,
   "metadata": {},
   "outputs": [
    {
     "data": {
      "text/html": [
       "\n",
       "\n",
       "\n",
       "\n",
       "\n",
       "\n",
       "  <div class=\"bk-root\" id=\"80906248-ff8e-474f-b0a2-2e85ee07959e\" data-root-id=\"1465\"></div>\n"
      ]
     },
     "metadata": {},
     "output_type": "display_data"
    },
    {
     "data": {
      "application/javascript": [
       "(function(root) {\n",
       "  function embed_document(root) {\n",
       "    \n",
       "  var docs_json = {\"667dd6c0-dc15-487c-a841-8a78fdd8d4d9\":{\"roots\":{\"references\":[{\"attributes\":{\"below\":[{\"id\":\"1476\",\"type\":\"LinearAxis\"}],\"center\":[{\"id\":\"1480\",\"type\":\"Grid\"},{\"id\":\"1484\",\"type\":\"Grid\"},{\"id\":\"1509\",\"type\":\"Legend\"}],\"left\":[{\"id\":\"1481\",\"type\":\"CategoricalAxis\"}],\"plot_height\":300,\"renderers\":[{\"id\":\"1501\",\"type\":\"GlyphRenderer\"},{\"id\":\"1514\",\"type\":\"GlyphRenderer\"}],\"title\":{\"id\":\"1466\",\"type\":\"Title\"},\"toolbar\":{\"id\":\"1491\",\"type\":\"Toolbar\"},\"x_range\":{\"id\":\"1468\",\"type\":\"DataRange1d\"},\"x_scale\":{\"id\":\"1472\",\"type\":\"LinearScale\"},\"y_range\":{\"id\":\"1470\",\"type\":\"FactorRange\"},\"y_scale\":{\"id\":\"1474\",\"type\":\"CategoricalScale\"}},\"id\":\"1465\",\"subtype\":\"Figure\",\"type\":\"Plot\"},{\"attributes\":{},\"id\":\"1477\",\"type\":\"BasicTicker\"},{\"attributes\":{\"bottom_units\":\"screen\",\"fill_alpha\":{\"value\":0.5},\"fill_color\":{\"value\":\"lightgrey\"},\"left_units\":\"screen\",\"level\":\"overlay\",\"line_alpha\":{\"value\":1.0},\"line_color\":{\"value\":\"black\"},\"line_dash\":[4,4],\"line_width\":{\"value\":2},\"render_mode\":\"css\",\"right_units\":\"screen\",\"top_units\":\"screen\"},\"id\":\"1508\",\"type\":\"BoxAnnotation\"},{\"attributes\":{\"ticker\":{\"id\":\"1477\",\"type\":\"BasicTicker\"}},\"id\":\"1480\",\"type\":\"Grid\"},{\"attributes\":{\"items\":[{\"id\":\"1510\",\"type\":\"LegendItem\"},{\"id\":\"1524\",\"type\":\"LegendItem\"}]},\"id\":\"1509\",\"type\":\"Legend\"},{\"attributes\":{\"formatter\":{\"id\":\"1504\",\"type\":\"BasicTickFormatter\"},\"ticker\":{\"id\":\"1477\",\"type\":\"BasicTicker\"}},\"id\":\"1476\",\"type\":\"LinearAxis\"},{\"attributes\":{\"formatter\":{\"id\":\"1506\",\"type\":\"CategoricalTickFormatter\"},\"ticker\":{\"id\":\"1482\",\"type\":\"CategoricalTicker\"}},\"id\":\"1481\",\"type\":\"CategoricalAxis\"},{\"attributes\":{\"label\":{\"value\":\"<=50K\"},\"renderers\":[{\"id\":\"1501\",\"type\":\"GlyphRenderer\"}]},\"id\":\"1510\",\"type\":\"LegendItem\"},{\"attributes\":{\"callback\":null,\"data\":{\"right\":[13281,8815,4712,1720,1539,1302,1198,1188,893,715,609,482,239,217,163,82],\"y\":[\"HS-grad\",\"Some-college\",\"Bachelors\",\"11th\",\"Assoc-voc\",\"10th\",\"Masters\",\"Assoc-acdm\",\"7th-8th\",\"9th\",\"12th\",\"5th-6th\",\"1st-4th\",\"Prof-school\",\"Doctorate\",\"Preschool\"]},\"selected\":{\"id\":\"1523\",\"type\":\"Selection\"},\"selection_policy\":{\"id\":\"1522\",\"type\":\"UnionRenderers\"}},\"id\":\"1498\",\"type\":\"ColumnDataSource\"},{\"attributes\":{},\"id\":\"1482\",\"type\":\"CategoricalTicker\"},{\"attributes\":{\"callback\":null,\"data\":{\"right\":[3313,2503,2063,1459,617,522,431,413,92,87,62,48,41,27,8,1],\"y\":[\"Bachelors\",\"HS-grad\",\"Some-college\",\"Masters\",\"Prof-school\",\"Assoc-voc\",\"Doctorate\",\"Assoc-acdm\",\"11th\",\"10th\",\"7th-8th\",\"12th\",\"9th\",\"5th-6th\",\"1st-4th\",\"Preschool\"]},\"selected\":{\"id\":\"1568\",\"type\":\"Selection\"},\"selection_policy\":{\"id\":\"1567\",\"type\":\"UnionRenderers\"}},\"id\":\"1511\",\"type\":\"ColumnDataSource\"},{\"attributes\":{},\"id\":\"1567\",\"type\":\"UnionRenderers\"},{\"attributes\":{\"dimension\":1,\"ticker\":{\"id\":\"1482\",\"type\":\"CategoricalTicker\"}},\"id\":\"1484\",\"type\":\"Grid\"},{\"attributes\":{\"fill_alpha\":{\"value\":0.5},\"fill_color\":{\"value\":\"coral\"},\"height\":{\"value\":0.5},\"line_alpha\":{\"value\":0.5},\"line_color\":{\"value\":\"coral\"},\"right\":{\"field\":\"right\"},\"y\":{\"field\":\"y\"}},\"id\":\"1512\",\"type\":\"HBar\"},{\"attributes\":{\"fill_alpha\":{\"value\":0.1},\"fill_color\":{\"value\":\"#1f77b4\"},\"height\":{\"value\":0.5},\"line_alpha\":{\"value\":0.1},\"line_color\":{\"value\":\"#1f77b4\"},\"right\":{\"field\":\"right\"},\"y\":{\"field\":\"y\"}},\"id\":\"1500\",\"type\":\"HBar\"},{\"attributes\":{\"fill_alpha\":{\"value\":0.1},\"fill_color\":{\"value\":\"#1f77b4\"},\"height\":{\"value\":0.5},\"line_alpha\":{\"value\":0.1},\"line_color\":{\"value\":\"#1f77b4\"},\"right\":{\"field\":\"right\"},\"y\":{\"field\":\"y\"}},\"id\":\"1513\",\"type\":\"HBar\"},{\"attributes\":{\"fill_alpha\":{\"value\":0.5},\"fill_color\":{\"value\":\"navy\"},\"height\":{\"value\":0.5},\"line_alpha\":{\"value\":0.5},\"line_color\":{\"value\":\"navy\"},\"right\":{\"field\":\"right\"},\"y\":{\"field\":\"y\"}},\"id\":\"1499\",\"type\":\"HBar\"},{\"attributes\":{\"data_source\":{\"id\":\"1511\",\"type\":\"ColumnDataSource\"},\"glyph\":{\"id\":\"1512\",\"type\":\"HBar\"},\"hover_glyph\":null,\"muted_glyph\":null,\"nonselection_glyph\":{\"id\":\"1513\",\"type\":\"HBar\"},\"selection_glyph\":null,\"view\":{\"id\":\"1515\",\"type\":\"CDSView\"}},\"id\":\"1514\",\"type\":\"GlyphRenderer\"},{\"attributes\":{\"active_drag\":\"auto\",\"active_inspect\":\"auto\",\"active_multi\":null,\"active_scroll\":\"auto\",\"active_tap\":\"auto\",\"tools\":[{\"id\":\"1485\",\"type\":\"PanTool\"},{\"id\":\"1486\",\"type\":\"WheelZoomTool\"},{\"id\":\"1487\",\"type\":\"BoxZoomTool\"},{\"id\":\"1488\",\"type\":\"SaveTool\"},{\"id\":\"1489\",\"type\":\"ResetTool\"},{\"id\":\"1490\",\"type\":\"HelpTool\"}]},\"id\":\"1491\",\"type\":\"Toolbar\"},{\"attributes\":{\"source\":{\"id\":\"1511\",\"type\":\"ColumnDataSource\"}},\"id\":\"1515\",\"type\":\"CDSView\"},{\"attributes\":{},\"id\":\"1485\",\"type\":\"PanTool\"},{\"attributes\":{},\"id\":\"1522\",\"type\":\"UnionRenderers\"},{\"attributes\":{},\"id\":\"1486\",\"type\":\"WheelZoomTool\"},{\"attributes\":{},\"id\":\"1523\",\"type\":\"Selection\"},{\"attributes\":{\"overlay\":{\"id\":\"1508\",\"type\":\"BoxAnnotation\"}},\"id\":\"1487\",\"type\":\"BoxZoomTool\"},{\"attributes\":{\"label\":{\"value\":\">50K\"},\"renderers\":[{\"id\":\"1514\",\"type\":\"GlyphRenderer\"}]},\"id\":\"1524\",\"type\":\"LegendItem\"},{\"attributes\":{},\"id\":\"1488\",\"type\":\"SaveTool\"},{\"attributes\":{},\"id\":\"1568\",\"type\":\"Selection\"},{\"attributes\":{},\"id\":\"1489\",\"type\":\"ResetTool\"},{\"attributes\":{},\"id\":\"1490\",\"type\":\"HelpTool\"},{\"attributes\":{},\"id\":\"1472\",\"type\":\"LinearScale\"},{\"attributes\":{\"data_source\":{\"id\":\"1498\",\"type\":\"ColumnDataSource\"},\"glyph\":{\"id\":\"1499\",\"type\":\"HBar\"},\"hover_glyph\":null,\"muted_glyph\":null,\"nonselection_glyph\":{\"id\":\"1500\",\"type\":\"HBar\"},\"selection_glyph\":null,\"view\":{\"id\":\"1502\",\"type\":\"CDSView\"}},\"id\":\"1501\",\"type\":\"GlyphRenderer\"},{\"attributes\":{\"callback\":null},\"id\":\"1468\",\"type\":\"DataRange1d\"},{\"attributes\":{\"source\":{\"id\":\"1498\",\"type\":\"ColumnDataSource\"}},\"id\":\"1502\",\"type\":\"CDSView\"},{\"attributes\":{},\"id\":\"1474\",\"type\":\"CategoricalScale\"},{\"attributes\":{\"text\":\"Highest Level of Education vs Income\"},\"id\":\"1466\",\"type\":\"Title\"},{\"attributes\":{},\"id\":\"1504\",\"type\":\"BasicTickFormatter\"},{\"attributes\":{\"callback\":null,\"factors\":[\"Some-college\",\"Prof-school\",\"Preschool\",\"Masters\",\"HS-grad\",\"Doctorate\",\"Bachelors\",\"Assoc-voc\",\"Assoc-acdm\",\"9th\",\"7th-8th\",\"5th-6th\",\"1st-4th\",\"12th\",\"11th\",\"10th\"]},\"id\":\"1470\",\"type\":\"FactorRange\"},{\"attributes\":{},\"id\":\"1506\",\"type\":\"CategoricalTickFormatter\"}],\"root_ids\":[\"1465\"]},\"title\":\"Bokeh Application\",\"version\":\"1.3.4\"}};\n",
       "  var render_items = [{\"docid\":\"667dd6c0-dc15-487c-a841-8a78fdd8d4d9\",\"roots\":{\"1465\":\"80906248-ff8e-474f-b0a2-2e85ee07959e\"}}];\n",
       "  root.Bokeh.embed.embed_items_notebook(docs_json, render_items);\n",
       "\n",
       "  }\n",
       "  if (root.Bokeh !== undefined) {\n",
       "    embed_document(root);\n",
       "  } else {\n",
       "    var attempts = 0;\n",
       "    var timer = setInterval(function(root) {\n",
       "      if (root.Bokeh !== undefined) {\n",
       "        embed_document(root);\n",
       "        clearInterval(timer);\n",
       "      }\n",
       "      attempts++;\n",
       "      if (attempts > 100) {\n",
       "        console.log(\"Bokeh: ERROR: Unable to run BokehJS code because BokehJS library is missing\");\n",
       "        clearInterval(timer);\n",
       "      }\n",
       "    }, 10, root)\n",
       "  }\n",
       "})(window);"
      ],
      "application/vnd.bokehjs_exec.v0+json": ""
     },
     "metadata": {
      "application/vnd.bokehjs_exec.v0+json": {
       "id": "1465"
      }
     },
     "output_type": "display_data"
    }
   ],
   "source": [
    "class_index = dataframe[\"income\"] == \"<=50K\"\n",
    "plot = make_categorical_hbar(education, class_index, \"Highest Level of Education vs Income\")\n",
    "show(plot)"
   ]
  },
  {
   "cell_type": "markdown",
   "metadata": {},
   "source": [
    "For the most part, a higher level of education is correlated to a higher percentage ofindividuals with the label >50k."
   ]
  },
  {
   "cell_type": "markdown",
   "metadata": {},
   "source": [
    "#### education-num"
   ]
  },
  {
   "cell_type": "markdown",
   "metadata": {},
   "source": [
    "The highest level of education achieved in numerical form."
   ]
  },
  {
   "cell_type": "code",
   "execution_count": 13,
   "metadata": {},
   "outputs": [
    {
     "data": {
      "text/plain": [
       "9     15784\n",
       "10    10878\n",
       "13     8025\n",
       "14     2657\n",
       "11     2061\n",
       "7      1812\n",
       "12     1601\n",
       "6      1389\n",
       "4       955\n",
       "15      834\n",
       "5       756\n",
       "8       657\n",
       "16      594\n",
       "3       509\n",
       "2       247\n",
       "1        83\n",
       "Name: educational-num, dtype: int64"
      ]
     },
     "execution_count": 13,
     "metadata": {},
     "output_type": "execute_result"
    }
   ],
   "source": [
    "educational_num = dataframe[\"educational-num\"]\n",
    "educational_num.value_counts()"
   ]
  },
  {
   "cell_type": "markdown",
   "metadata": {},
   "source": [
    "#### marital-status"
   ]
  },
  {
   "cell_type": "markdown",
   "metadata": {},
   "source": [
    "Marital status of an individual. `Married-civ-spouse` corresponds to acivilian spouse, while `Married-AF-spouse` is a spouse in the Armed Forces."
   ]
  },
  {
   "cell_type": "code",
   "execution_count": 14,
   "metadata": {},
   "outputs": [
    {
     "data": {
      "text/plain": [
       "Married-civ-spouse       22379\n",
       "Never-married            16117\n",
       "Divorced                  6633\n",
       "Separated                 1530\n",
       "Widowed                   1518\n",
       "Married-spouse-absent      628\n",
       "Married-AF-spouse           37\n",
       "Name: marital-status, dtype: int64"
      ]
     },
     "execution_count": 14,
     "metadata": {},
     "output_type": "execute_result"
    }
   ],
   "source": [
    "marital_status = dataframe[\"marital-status\"]\n",
    "marital_status.value_counts()"
   ]
  },
  {
   "cell_type": "markdown",
   "metadata": {},
   "source": [
    "#### ocupation"
   ]
  },
  {
   "cell_type": "markdown",
   "metadata": {},
   "source": [
    "The general type of occupation of an individual."
   ]
  },
  {
   "cell_type": "code",
   "execution_count": 15,
   "metadata": {},
   "outputs": [
    {
     "data": {
      "text/plain": [
       "Prof-specialty       6172\n",
       "Craft-repair         6112\n",
       "Exec-managerial      6086\n",
       "Adm-clerical         5611\n",
       "Sales                5504\n",
       "Other-service        4923\n",
       "Machine-op-inspct    3022\n",
       "?                    2809\n",
       "Transport-moving     2355\n",
       "Handlers-cleaners    2072\n",
       "Farming-fishing      1490\n",
       "Tech-support         1446\n",
       "Protective-serv       983\n",
       "Priv-house-serv       242\n",
       "Armed-Forces           15\n",
       "Name: occupation, dtype: int64"
      ]
     },
     "execution_count": 15,
     "metadata": {},
     "output_type": "execute_result"
    }
   ],
   "source": [
    "occupation = dataframe[\"occupation\"]\n",
    "occupation.value_counts()"
   ]
  },
  {
   "cell_type": "code",
   "execution_count": 16,
   "metadata": {},
   "outputs": [
    {
     "data": {
      "text/html": [
       "\n",
       "\n",
       "\n",
       "\n",
       "\n",
       "\n",
       "  <div class=\"bk-root\" id=\"1f192f37-96a6-43d5-813d-07967322edda\" data-root-id=\"1629\"></div>\n"
      ]
     },
     "metadata": {},
     "output_type": "display_data"
    },
    {
     "data": {
      "application/javascript": [
       "(function(root) {\n",
       "  function embed_document(root) {\n",
       "    \n",
       "  var docs_json = {\"8a60f0ef-f64a-4205-ad70-3272d9558512\":{\"roots\":{\"references\":[{\"attributes\":{\"below\":[{\"id\":\"1640\",\"type\":\"LinearAxis\"}],\"center\":[{\"id\":\"1644\",\"type\":\"Grid\"},{\"id\":\"1648\",\"type\":\"Grid\"},{\"id\":\"1673\",\"type\":\"Legend\"}],\"left\":[{\"id\":\"1645\",\"type\":\"CategoricalAxis\"}],\"plot_height\":300,\"renderers\":[{\"id\":\"1665\",\"type\":\"GlyphRenderer\"},{\"id\":\"1678\",\"type\":\"GlyphRenderer\"}],\"title\":{\"id\":\"1630\",\"type\":\"Title\"},\"toolbar\":{\"id\":\"1655\",\"type\":\"Toolbar\"},\"x_range\":{\"id\":\"1632\",\"type\":\"DataRange1d\"},\"x_scale\":{\"id\":\"1636\",\"type\":\"LinearScale\"},\"y_range\":{\"id\":\"1634\",\"type\":\"FactorRange\"},\"y_scale\":{\"id\":\"1638\",\"type\":\"CategoricalScale\"}},\"id\":\"1629\",\"subtype\":\"Figure\",\"type\":\"Plot\"},{\"attributes\":{\"overlay\":{\"id\":\"1672\",\"type\":\"BoxAnnotation\"}},\"id\":\"1651\",\"type\":\"BoxZoomTool\"},{\"attributes\":{},\"id\":\"1687\",\"type\":\"Selection\"},{\"attributes\":{},\"id\":\"1741\",\"type\":\"UnionRenderers\"},{\"attributes\":{},\"id\":\"1652\",\"type\":\"SaveTool\"},{\"attributes\":{\"label\":{\"value\":\">50K\"},\"renderers\":[{\"id\":\"1678\",\"type\":\"GlyphRenderer\"}]},\"id\":\"1688\",\"type\":\"LegendItem\"},{\"attributes\":{},\"id\":\"1653\",\"type\":\"ResetTool\"},{\"attributes\":{},\"id\":\"1654\",\"type\":\"HelpTool\"},{\"attributes\":{\"callback\":null},\"id\":\"1632\",\"type\":\"DataRange1d\"},{\"attributes\":{\"callback\":null,\"factors\":[\"Transport-moving\",\"Tech-support\",\"Sales\",\"Protective-serv\",\"Prof-specialty\",\"Priv-house-serv\",\"Other-service\",\"Machine-op-inspct\",\"Handlers-cleaners\",\"Farming-fishing\",\"Exec-managerial\",\"Craft-repair\",\"Armed-Forces\",\"Adm-clerical\",\"?\"]},\"id\":\"1634\",\"type\":\"FactorRange\"},{\"attributes\":{\"data_source\":{\"id\":\"1662\",\"type\":\"ColumnDataSource\"},\"glyph\":{\"id\":\"1663\",\"type\":\"HBar\"},\"hover_glyph\":null,\"muted_glyph\":null,\"nonselection_glyph\":{\"id\":\"1664\",\"type\":\"HBar\"},\"selection_glyph\":null,\"view\":{\"id\":\"1666\",\"type\":\"CDSView\"}},\"id\":\"1665\",\"type\":\"GlyphRenderer\"},{\"attributes\":{},\"id\":\"1636\",\"type\":\"LinearScale\"},{\"attributes\":{\"source\":{\"id\":\"1662\",\"type\":\"ColumnDataSource\"}},\"id\":\"1666\",\"type\":\"CDSView\"},{\"attributes\":{\"callback\":null,\"data\":{\"right\":[4843,4729,4719,4029,3388,3178,2650,2544,1934,1874,1317,1026,675,239,10],\"y\":[\"Adm-clerical\",\"Craft-repair\",\"Other-service\",\"Sales\",\"Prof-specialty\",\"Exec-managerial\",\"Machine-op-inspct\",\"?\",\"Handlers-cleaners\",\"Transport-moving\",\"Farming-fishing\",\"Tech-support\",\"Protective-serv\",\"Priv-house-serv\",\"Armed-Forces\"]},\"selected\":{\"id\":\"1687\",\"type\":\"Selection\"},\"selection_policy\":{\"id\":\"1686\",\"type\":\"UnionRenderers\"}},\"id\":\"1662\",\"type\":\"ColumnDataSource\"},{\"attributes\":{\"text\":\"Occupation vs Income\"},\"id\":\"1630\",\"type\":\"Title\"},{\"attributes\":{},\"id\":\"1638\",\"type\":\"CategoricalScale\"},{\"attributes\":{},\"id\":\"1668\",\"type\":\"BasicTickFormatter\"},{\"attributes\":{\"formatter\":{\"id\":\"1668\",\"type\":\"BasicTickFormatter\"},\"ticker\":{\"id\":\"1641\",\"type\":\"BasicTicker\"}},\"id\":\"1640\",\"type\":\"LinearAxis\"},{\"attributes\":{},\"id\":\"1670\",\"type\":\"CategoricalTickFormatter\"},{\"attributes\":{},\"id\":\"1641\",\"type\":\"BasicTicker\"},{\"attributes\":{\"bottom_units\":\"screen\",\"fill_alpha\":{\"value\":0.5},\"fill_color\":{\"value\":\"lightgrey\"},\"left_units\":\"screen\",\"level\":\"overlay\",\"line_alpha\":{\"value\":1.0},\"line_color\":{\"value\":\"black\"},\"line_dash\":[4,4],\"line_width\":{\"value\":2},\"render_mode\":\"css\",\"right_units\":\"screen\",\"top_units\":\"screen\"},\"id\":\"1672\",\"type\":\"BoxAnnotation\"},{\"attributes\":{\"ticker\":{\"id\":\"1641\",\"type\":\"BasicTicker\"}},\"id\":\"1644\",\"type\":\"Grid\"},{\"attributes\":{\"items\":[{\"id\":\"1674\",\"type\":\"LegendItem\"},{\"id\":\"1688\",\"type\":\"LegendItem\"}]},\"id\":\"1673\",\"type\":\"Legend\"},{\"attributes\":{\"formatter\":{\"id\":\"1670\",\"type\":\"CategoricalTickFormatter\"},\"ticker\":{\"id\":\"1646\",\"type\":\"CategoricalTicker\"}},\"id\":\"1645\",\"type\":\"CategoricalAxis\"},{\"attributes\":{\"label\":{\"value\":\"<=50K\"},\"renderers\":[{\"id\":\"1665\",\"type\":\"GlyphRenderer\"}]},\"id\":\"1674\",\"type\":\"LegendItem\"},{\"attributes\":{},\"id\":\"1646\",\"type\":\"CategoricalTicker\"},{\"attributes\":{\"callback\":null,\"data\":{\"right\":[2908,2784,1475,1383,768,481,420,372,308,265,204,173,138,5,3],\"y\":[\"Exec-managerial\",\"Prof-specialty\",\"Sales\",\"Craft-repair\",\"Adm-clerical\",\"Transport-moving\",\"Tech-support\",\"Machine-op-inspct\",\"Protective-serv\",\"?\",\"Other-service\",\"Farming-fishing\",\"Handlers-cleaners\",\"Armed-Forces\",\"Priv-house-serv\"]},\"selected\":{\"id\":\"1742\",\"type\":\"Selection\"},\"selection_policy\":{\"id\":\"1741\",\"type\":\"UnionRenderers\"}},\"id\":\"1675\",\"type\":\"ColumnDataSource\"},{\"attributes\":{},\"id\":\"1742\",\"type\":\"Selection\"},{\"attributes\":{\"dimension\":1,\"ticker\":{\"id\":\"1646\",\"type\":\"CategoricalTicker\"}},\"id\":\"1648\",\"type\":\"Grid\"},{\"attributes\":{\"fill_alpha\":{\"value\":0.5},\"fill_color\":{\"value\":\"coral\"},\"height\":{\"value\":0.5},\"line_alpha\":{\"value\":0.5},\"line_color\":{\"value\":\"coral\"},\"right\":{\"field\":\"right\"},\"y\":{\"field\":\"y\"}},\"id\":\"1676\",\"type\":\"HBar\"},{\"attributes\":{\"fill_alpha\":{\"value\":0.1},\"fill_color\":{\"value\":\"#1f77b4\"},\"height\":{\"value\":0.5},\"line_alpha\":{\"value\":0.1},\"line_color\":{\"value\":\"#1f77b4\"},\"right\":{\"field\":\"right\"},\"y\":{\"field\":\"y\"}},\"id\":\"1664\",\"type\":\"HBar\"},{\"attributes\":{\"fill_alpha\":{\"value\":0.1},\"fill_color\":{\"value\":\"#1f77b4\"},\"height\":{\"value\":0.5},\"line_alpha\":{\"value\":0.1},\"line_color\":{\"value\":\"#1f77b4\"},\"right\":{\"field\":\"right\"},\"y\":{\"field\":\"y\"}},\"id\":\"1677\",\"type\":\"HBar\"},{\"attributes\":{\"fill_alpha\":{\"value\":0.5},\"fill_color\":{\"value\":\"navy\"},\"height\":{\"value\":0.5},\"line_alpha\":{\"value\":0.5},\"line_color\":{\"value\":\"navy\"},\"right\":{\"field\":\"right\"},\"y\":{\"field\":\"y\"}},\"id\":\"1663\",\"type\":\"HBar\"},{\"attributes\":{\"data_source\":{\"id\":\"1675\",\"type\":\"ColumnDataSource\"},\"glyph\":{\"id\":\"1676\",\"type\":\"HBar\"},\"hover_glyph\":null,\"muted_glyph\":null,\"nonselection_glyph\":{\"id\":\"1677\",\"type\":\"HBar\"},\"selection_glyph\":null,\"view\":{\"id\":\"1679\",\"type\":\"CDSView\"}},\"id\":\"1678\",\"type\":\"GlyphRenderer\"},{\"attributes\":{\"active_drag\":\"auto\",\"active_inspect\":\"auto\",\"active_multi\":null,\"active_scroll\":\"auto\",\"active_tap\":\"auto\",\"tools\":[{\"id\":\"1649\",\"type\":\"PanTool\"},{\"id\":\"1650\",\"type\":\"WheelZoomTool\"},{\"id\":\"1651\",\"type\":\"BoxZoomTool\"},{\"id\":\"1652\",\"type\":\"SaveTool\"},{\"id\":\"1653\",\"type\":\"ResetTool\"},{\"id\":\"1654\",\"type\":\"HelpTool\"}]},\"id\":\"1655\",\"type\":\"Toolbar\"},{\"attributes\":{\"source\":{\"id\":\"1675\",\"type\":\"ColumnDataSource\"}},\"id\":\"1679\",\"type\":\"CDSView\"},{\"attributes\":{},\"id\":\"1649\",\"type\":\"PanTool\"},{\"attributes\":{},\"id\":\"1686\",\"type\":\"UnionRenderers\"},{\"attributes\":{},\"id\":\"1650\",\"type\":\"WheelZoomTool\"}],\"root_ids\":[\"1629\"]},\"title\":\"Bokeh Application\",\"version\":\"1.3.4\"}};\n",
       "  var render_items = [{\"docid\":\"8a60f0ef-f64a-4205-ad70-3272d9558512\",\"roots\":{\"1629\":\"1f192f37-96a6-43d5-813d-07967322edda\"}}];\n",
       "  root.Bokeh.embed.embed_items_notebook(docs_json, render_items);\n",
       "\n",
       "  }\n",
       "  if (root.Bokeh !== undefined) {\n",
       "    embed_document(root);\n",
       "  } else {\n",
       "    var attempts = 0;\n",
       "    var timer = setInterval(function(root) {\n",
       "      if (root.Bokeh !== undefined) {\n",
       "        embed_document(root);\n",
       "        clearInterval(timer);\n",
       "      }\n",
       "      attempts++;\n",
       "      if (attempts > 100) {\n",
       "        console.log(\"Bokeh: ERROR: Unable to run BokehJS code because BokehJS library is missing\");\n",
       "        clearInterval(timer);\n",
       "      }\n",
       "    }, 10, root)\n",
       "  }\n",
       "})(window);"
      ],
      "application/vnd.bokehjs_exec.v0+json": ""
     },
     "metadata": {
      "application/vnd.bokehjs_exec.v0+json": {
       "id": "1629"
      }
     },
     "output_type": "display_data"
    }
   ],
   "source": [
    "class_index = dataframe[\"income\"] == \"<=50K\"\n",
    "plot = make_categorical_hbar(occupation, class_index, \"Occupation vs Income\")\n",
    "show(plot)"
   ]
  },
  {
   "cell_type": "markdown",
   "metadata": {},
   "source": [
    "#### relationship"
   ]
  },
  {
   "cell_type": "markdown",
   "metadata": {},
   "source": [
    "Represents what this individual is relative to others. For example an individual could be a Husband. Each entry only has one relationship attribute and is somewhat redundant with marital status. "
   ]
  },
  {
   "cell_type": "code",
   "execution_count": 17,
   "metadata": {},
   "outputs": [
    {
     "data": {
      "text/plain": [
       "Husband           19716\n",
       "Not-in-family     12583\n",
       "Own-child          7581\n",
       "Unmarried          5125\n",
       "Wife               2331\n",
       "Other-relative     1506\n",
       "Name: relationship, dtype: int64"
      ]
     },
     "execution_count": 17,
     "metadata": {},
     "output_type": "execute_result"
    }
   ],
   "source": [
    "relationship = dataframe[\"relationship\"]\n",
    "relationship.value_counts()"
   ]
  },
  {
   "cell_type": "markdown",
   "metadata": {},
   "source": [
    "#### race"
   ]
  },
  {
   "cell_type": "markdown",
   "metadata": {},
   "source": [
    "Descriptions of an individual’s race."
   ]
  },
  {
   "cell_type": "code",
   "execution_count": 38,
   "metadata": {},
   "outputs": [
    {
     "data": {
      "text/plain": [
       "White                 41762\n",
       "Black                  4685\n",
       "Asian-Pac-Islander     1519\n",
       "Amer-Indian-Eskimo      470\n",
       "Other                   406\n",
       "Name: race, dtype: int64"
      ]
     },
     "execution_count": 38,
     "metadata": {},
     "output_type": "execute_result"
    }
   ],
   "source": [
    "race = dataframe[\"race\"]\n",
    "race.value_counts()"
   ]
  },
  {
   "cell_type": "markdown",
   "metadata": {},
   "source": [
    "#### gender"
   ]
  },
  {
   "cell_type": "markdown",
   "metadata": {},
   "source": [
    "The biological sex of the individual."
   ]
  },
  {
   "cell_type": "code",
   "execution_count": 17,
   "metadata": {},
   "outputs": [
    {
     "data": {
      "text/plain": [
       "Male      32650\n",
       "Female    16192\n",
       "Name: gender, dtype: int64"
      ]
     },
     "execution_count": 17,
     "metadata": {},
     "output_type": "execute_result"
    }
   ],
   "source": [
    "gender = dataframe[\"gender\"]\n",
    "gender.value_counts()"
   ]
  },
  {
   "cell_type": "code",
   "execution_count": 18,
   "metadata": {},
   "outputs": [
    {
     "data": {
      "text/html": [
       "\n",
       "\n",
       "\n",
       "\n",
       "\n",
       "\n",
       "  <div class=\"bk-root\" id=\"ac93f6d0-87fb-4587-a36e-3c27e55283ab\" data-root-id=\"1803\"></div>\n"
      ]
     },
     "metadata": {},
     "output_type": "display_data"
    },
    {
     "data": {
      "application/javascript": [
       "(function(root) {\n",
       "  function embed_document(root) {\n",
       "    \n",
       "  var docs_json = {\"98a20a0f-ca1a-4020-9a1f-cc2cbe3b3e9f\":{\"roots\":{\"references\":[{\"attributes\":{\"below\":[{\"id\":\"1814\",\"type\":\"LinearAxis\"}],\"center\":[{\"id\":\"1818\",\"type\":\"Grid\"},{\"id\":\"1822\",\"type\":\"Grid\"},{\"id\":\"1847\",\"type\":\"Legend\"}],\"left\":[{\"id\":\"1819\",\"type\":\"CategoricalAxis\"}],\"plot_height\":300,\"renderers\":[{\"id\":\"1839\",\"type\":\"GlyphRenderer\"},{\"id\":\"1852\",\"type\":\"GlyphRenderer\"}],\"title\":{\"id\":\"1804\",\"type\":\"Title\"},\"toolbar\":{\"id\":\"1829\",\"type\":\"Toolbar\"},\"x_range\":{\"id\":\"1806\",\"type\":\"DataRange1d\"},\"x_scale\":{\"id\":\"1810\",\"type\":\"LinearScale\"},\"y_range\":{\"id\":\"1808\",\"type\":\"FactorRange\"},\"y_scale\":{\"id\":\"1812\",\"type\":\"CategoricalScale\"}},\"id\":\"1803\",\"subtype\":\"Figure\",\"type\":\"Plot\"},{\"attributes\":{},\"id\":\"1844\",\"type\":\"CategoricalTickFormatter\"},{\"attributes\":{\"source\":{\"id\":\"1836\",\"type\":\"ColumnDataSource\"}},\"id\":\"1840\",\"type\":\"CDSView\"},{\"attributes\":{\"data_source\":{\"id\":\"1836\",\"type\":\"ColumnDataSource\"},\"glyph\":{\"id\":\"1837\",\"type\":\"HBar\"},\"hover_glyph\":null,\"muted_glyph\":null,\"nonselection_glyph\":{\"id\":\"1838\",\"type\":\"HBar\"},\"selection_glyph\":null,\"view\":{\"id\":\"1840\",\"type\":\"CDSView\"}},\"id\":\"1839\",\"type\":\"GlyphRenderer\"},{\"attributes\":{\"bottom_units\":\"screen\",\"fill_alpha\":{\"value\":0.5},\"fill_color\":{\"value\":\"lightgrey\"},\"left_units\":\"screen\",\"level\":\"overlay\",\"line_alpha\":{\"value\":1.0},\"line_color\":{\"value\":\"black\"},\"line_dash\":[4,4],\"line_width\":{\"value\":2},\"render_mode\":\"css\",\"right_units\":\"screen\",\"top_units\":\"screen\"},\"id\":\"1846\",\"type\":\"BoxAnnotation\"},{\"attributes\":{\"items\":[{\"id\":\"1848\",\"type\":\"LegendItem\"},{\"id\":\"1862\",\"type\":\"LegendItem\"}]},\"id\":\"1847\",\"type\":\"Legend\"},{\"attributes\":{},\"id\":\"1926\",\"type\":\"Selection\"},{\"attributes\":{\"label\":{\"value\":\"<=50K\"},\"renderers\":[{\"id\":\"1839\",\"type\":\"GlyphRenderer\"}]},\"id\":\"1848\",\"type\":\"LegendItem\"},{\"attributes\":{\"callback\":null,\"data\":{\"right\":[9918,1769],\"y\":[\"Male\",\"Female\"]},\"selected\":{\"id\":\"1926\",\"type\":\"Selection\"},\"selection_policy\":{\"id\":\"1925\",\"type\":\"UnionRenderers\"}},\"id\":\"1849\",\"type\":\"ColumnDataSource\"},{\"attributes\":{\"callback\":null,\"factors\":[\"Male\",\"Female\"]},\"id\":\"1808\",\"type\":\"FactorRange\"},{\"attributes\":{\"overlay\":{\"id\":\"1846\",\"type\":\"BoxAnnotation\"}},\"id\":\"1825\",\"type\":\"BoxZoomTool\"},{\"attributes\":{\"fill_alpha\":{\"value\":0.5},\"fill_color\":{\"value\":\"coral\"},\"height\":{\"value\":0.5},\"line_alpha\":{\"value\":0.5},\"line_color\":{\"value\":\"coral\"},\"right\":{\"field\":\"right\"},\"y\":{\"field\":\"y\"}},\"id\":\"1850\",\"type\":\"HBar\"},{\"attributes\":{},\"id\":\"1827\",\"type\":\"ResetTool\"},{\"attributes\":{},\"id\":\"1820\",\"type\":\"CategoricalTicker\"},{\"attributes\":{\"fill_alpha\":{\"value\":0.1},\"fill_color\":{\"value\":\"#1f77b4\"},\"height\":{\"value\":0.5},\"line_alpha\":{\"value\":0.1},\"line_color\":{\"value\":\"#1f77b4\"},\"right\":{\"field\":\"right\"},\"y\":{\"field\":\"y\"}},\"id\":\"1851\",\"type\":\"HBar\"},{\"attributes\":{},\"id\":\"1810\",\"type\":\"LinearScale\"},{\"attributes\":{\"data_source\":{\"id\":\"1849\",\"type\":\"ColumnDataSource\"},\"glyph\":{\"id\":\"1850\",\"type\":\"HBar\"},\"hover_glyph\":null,\"muted_glyph\":null,\"nonselection_glyph\":{\"id\":\"1851\",\"type\":\"HBar\"},\"selection_glyph\":null,\"view\":{\"id\":\"1853\",\"type\":\"CDSView\"}},\"id\":\"1852\",\"type\":\"GlyphRenderer\"},{\"attributes\":{},\"id\":\"1815\",\"type\":\"BasicTicker\"},{\"attributes\":{\"source\":{\"id\":\"1849\",\"type\":\"ColumnDataSource\"}},\"id\":\"1853\",\"type\":\"CDSView\"},{\"attributes\":{\"formatter\":{\"id\":\"1842\",\"type\":\"BasicTickFormatter\"},\"ticker\":{\"id\":\"1815\",\"type\":\"BasicTicker\"}},\"id\":\"1814\",\"type\":\"LinearAxis\"},{\"attributes\":{},\"id\":\"1860\",\"type\":\"UnionRenderers\"},{\"attributes\":{},\"id\":\"1925\",\"type\":\"UnionRenderers\"},{\"attributes\":{},\"id\":\"1812\",\"type\":\"CategoricalScale\"},{\"attributes\":{\"text\":\"Gender vs Income\"},\"id\":\"1804\",\"type\":\"Title\"},{\"attributes\":{},\"id\":\"1861\",\"type\":\"Selection\"},{\"attributes\":{\"ticker\":{\"id\":\"1815\",\"type\":\"BasicTicker\"}},\"id\":\"1818\",\"type\":\"Grid\"},{\"attributes\":{\"fill_alpha\":{\"value\":0.1},\"fill_color\":{\"value\":\"#1f77b4\"},\"height\":{\"value\":0.5},\"line_alpha\":{\"value\":0.1},\"line_color\":{\"value\":\"#1f77b4\"},\"right\":{\"field\":\"right\"},\"y\":{\"field\":\"y\"}},\"id\":\"1838\",\"type\":\"HBar\"},{\"attributes\":{\"callback\":null},\"id\":\"1806\",\"type\":\"DataRange1d\"},{\"attributes\":{\"label\":{\"value\":\">50K\"},\"renderers\":[{\"id\":\"1852\",\"type\":\"GlyphRenderer\"}]},\"id\":\"1862\",\"type\":\"LegendItem\"},{\"attributes\":{\"formatter\":{\"id\":\"1844\",\"type\":\"CategoricalTickFormatter\"},\"ticker\":{\"id\":\"1820\",\"type\":\"CategoricalTicker\"}},\"id\":\"1819\",\"type\":\"CategoricalAxis\"},{\"attributes\":{\"fill_alpha\":{\"value\":0.5},\"fill_color\":{\"value\":\"navy\"},\"height\":{\"value\":0.5},\"line_alpha\":{\"value\":0.5},\"line_color\":{\"value\":\"navy\"},\"right\":{\"field\":\"right\"},\"y\":{\"field\":\"y\"}},\"id\":\"1837\",\"type\":\"HBar\"},{\"attributes\":{},\"id\":\"1823\",\"type\":\"PanTool\"},{\"attributes\":{\"callback\":null,\"data\":{\"right\":[22732,14423],\"y\":[\"Male\",\"Female\"]},\"selected\":{\"id\":\"1861\",\"type\":\"Selection\"},\"selection_policy\":{\"id\":\"1860\",\"type\":\"UnionRenderers\"}},\"id\":\"1836\",\"type\":\"ColumnDataSource\"},{\"attributes\":{\"active_drag\":\"auto\",\"active_inspect\":\"auto\",\"active_multi\":null,\"active_scroll\":\"auto\",\"active_tap\":\"auto\",\"tools\":[{\"id\":\"1823\",\"type\":\"PanTool\"},{\"id\":\"1824\",\"type\":\"WheelZoomTool\"},{\"id\":\"1825\",\"type\":\"BoxZoomTool\"},{\"id\":\"1826\",\"type\":\"SaveTool\"},{\"id\":\"1827\",\"type\":\"ResetTool\"},{\"id\":\"1828\",\"type\":\"HelpTool\"}]},\"id\":\"1829\",\"type\":\"Toolbar\"},{\"attributes\":{\"dimension\":1,\"ticker\":{\"id\":\"1820\",\"type\":\"CategoricalTicker\"}},\"id\":\"1822\",\"type\":\"Grid\"},{\"attributes\":{},\"id\":\"1824\",\"type\":\"WheelZoomTool\"},{\"attributes\":{},\"id\":\"1828\",\"type\":\"HelpTool\"},{\"attributes\":{},\"id\":\"1842\",\"type\":\"BasicTickFormatter\"},{\"attributes\":{},\"id\":\"1826\",\"type\":\"SaveTool\"}],\"root_ids\":[\"1803\"]},\"title\":\"Bokeh Application\",\"version\":\"1.3.4\"}};\n",
       "  var render_items = [{\"docid\":\"98a20a0f-ca1a-4020-9a1f-cc2cbe3b3e9f\",\"roots\":{\"1803\":\"ac93f6d0-87fb-4587-a36e-3c27e55283ab\"}}];\n",
       "  root.Bokeh.embed.embed_items_notebook(docs_json, render_items);\n",
       "\n",
       "  }\n",
       "  if (root.Bokeh !== undefined) {\n",
       "    embed_document(root);\n",
       "  } else {\n",
       "    var attempts = 0;\n",
       "    var timer = setInterval(function(root) {\n",
       "      if (root.Bokeh !== undefined) {\n",
       "        embed_document(root);\n",
       "        clearInterval(timer);\n",
       "      }\n",
       "      attempts++;\n",
       "      if (attempts > 100) {\n",
       "        console.log(\"Bokeh: ERROR: Unable to run BokehJS code because BokehJS library is missing\");\n",
       "        clearInterval(timer);\n",
       "      }\n",
       "    }, 10, root)\n",
       "  }\n",
       "})(window);"
      ],
      "application/vnd.bokehjs_exec.v0+json": ""
     },
     "metadata": {
      "application/vnd.bokehjs_exec.v0+json": {
       "id": "1803"
      }
     },
     "output_type": "display_data"
    }
   ],
   "source": [
    "class_index = dataframe[\"income\"] == \"<=50K\"\n",
    "plot = make_categorical_hbar(gender, class_index, \"Gender vs Income\")\n",
    "show(plot)"
   ]
  },
  {
   "cell_type": "markdown",
   "metadata": {},
   "source": [
    "The percentage of males who make greater than $50,000 is much greater than the percentage of females that make the same amount. This will certainly be a significant factor, and should be a feature considered in a prediction model."
   ]
  },
  {
   "cell_type": "markdown",
   "metadata": {},
   "source": [
    "#### capital-gain"
   ]
  },
  {
   "cell_type": "markdown",
   "metadata": {},
   "source": [
    "Capital gain for an individual. Integer greater than or equal to 0."
   ]
  },
  {
   "cell_type": "code",
   "execution_count": 20,
   "metadata": {},
   "outputs": [
    {
     "data": {
      "text/plain": [
       "0        44807\n",
       "15024      513\n",
       "7688       410\n",
       "7298       364\n",
       "99999      244\n",
       "         ...  \n",
       "2387         1\n",
       "22040        1\n",
       "6612         1\n",
       "1111         1\n",
       "1639         1\n",
       "Name: capital-gain, Length: 123, dtype: int64"
      ]
     },
     "execution_count": 20,
     "metadata": {},
     "output_type": "execute_result"
    }
   ],
   "source": [
    "capital_gain = dataframe[\"capital-gain\"]\n",
    "capital_gain.value_counts()"
   ]
  },
  {
   "cell_type": "markdown",
   "metadata": {},
   "source": [
    "#### capital-loss"
   ]
  },
  {
   "cell_type": "markdown",
   "metadata": {},
   "source": [
    "Capital loss for an individual. Integer greater than or equal to 0."
   ]
  },
  {
   "cell_type": "code",
   "execution_count": 45,
   "metadata": {},
   "outputs": [
    {
     "data": {
      "text/plain": [
       "0       46560\n",
       "1902      304\n",
       "1977      253\n",
       "1887      233\n",
       "2415       72\n",
       "        ...  \n",
       "1539        1\n",
       "2489        1\n",
       "2201        1\n",
       "1421        1\n",
       "1870        1\n",
       "Name: capital-loss, Length: 99, dtype: int64"
      ]
     },
     "execution_count": 45,
     "metadata": {},
     "output_type": "execute_result"
    }
   ],
   "source": [
    "capital_loss = dataframe[\"capital-loss\"]\n",
    "capital_loss.value_counts()"
   ]
  },
  {
   "cell_type": "markdown",
   "metadata": {},
   "source": [
    "#### hours-per-week"
   ]
  },
  {
   "cell_type": "markdown",
   "metadata": {},
   "source": [
    "The hours an individual has reported to work per week."
   ]
  },
  {
   "cell_type": "code",
   "execution_count": 19,
   "metadata": {},
   "outputs": [
    {
     "data": {
      "text/plain": [
       "40    22803\n",
       "50     4246\n",
       "45     2717\n",
       "60     2177\n",
       "35     1937\n",
       "      ...  \n",
       "69        1\n",
       "94        1\n",
       "79        1\n",
       "82        1\n",
       "87        1\n",
       "Name: hours-per-week, Length: 96, dtype: int64"
      ]
     },
     "execution_count": 19,
     "metadata": {},
     "output_type": "execute_result"
    }
   ],
   "source": [
    "hours_per_week = dataframe[\"hours-per-week\"]\n",
    "hours_per_week.value_counts()"
   ]
  },
  {
   "cell_type": "code",
   "execution_count": 20,
   "metadata": {},
   "outputs": [
    {
     "data": {
      "text/html": [
       "\n",
       "\n",
       "\n",
       "\n",
       "\n",
       "\n",
       "  <div class=\"bk-root\" id=\"1dcea4b7-445c-4ec7-89b4-39926136d5eb\" data-root-id=\"1987\"></div>\n"
      ]
     },
     "metadata": {},
     "output_type": "display_data"
    },
    {
     "data": {
      "application/javascript": [
       "(function(root) {\n",
       "  function embed_document(root) {\n",
       "    \n",
       "  var docs_json = {\"51473c3b-8d3f-4419-847e-55ad13f61b64\":{\"roots\":{\"references\":[{\"attributes\":{\"below\":[{\"id\":\"1998\",\"type\":\"LinearAxis\"}],\"center\":[{\"id\":\"2002\",\"type\":\"Grid\"},{\"id\":\"2006\",\"type\":\"Grid\"},{\"id\":\"2031\",\"type\":\"Legend\"}],\"left\":[{\"id\":\"2003\",\"type\":\"CategoricalAxis\"}],\"plot_height\":300,\"renderers\":[{\"id\":\"2023\",\"type\":\"GlyphRenderer\"},{\"id\":\"2036\",\"type\":\"GlyphRenderer\"}],\"title\":{\"id\":\"1988\",\"type\":\"Title\"},\"toolbar\":{\"id\":\"2013\",\"type\":\"Toolbar\"},\"x_range\":{\"id\":\"1990\",\"type\":\"DataRange1d\"},\"x_scale\":{\"id\":\"1994\",\"type\":\"LinearScale\"},\"y_range\":{\"id\":\"1992\",\"type\":\"FactorRange\"},\"y_scale\":{\"id\":\"1996\",\"type\":\"CategoricalScale\"}},\"id\":\"1987\",\"subtype\":\"Figure\",\"type\":\"Plot\"},{\"attributes\":{\"overlay\":{\"id\":\"2030\",\"type\":\"BoxAnnotation\"}},\"id\":\"2009\",\"type\":\"BoxZoomTool\"},{\"attributes\":{\"label\":{\"value\":\">50K\"},\"renderers\":[{\"id\":\"2036\",\"type\":\"GlyphRenderer\"}]},\"id\":\"2046\",\"type\":\"LegendItem\"},{\"attributes\":{},\"id\":\"2045\",\"type\":\"Selection\"},{\"attributes\":{\"callback\":null,\"factors\":[\">40\",\"<40\",\"40\"]},\"id\":\"1992\",\"type\":\"FactorRange\"},{\"attributes\":{},\"id\":\"2010\",\"type\":\"SaveTool\"},{\"attributes\":{},\"id\":\"2120\",\"type\":\"Selection\"},{\"attributes\":{},\"id\":\"1994\",\"type\":\"LinearScale\"},{\"attributes\":{},\"id\":\"2011\",\"type\":\"ResetTool\"},{\"attributes\":{},\"id\":\"2012\",\"type\":\"HelpTool\"},{\"attributes\":{\"data_source\":{\"id\":\"2020\",\"type\":\"ColumnDataSource\"},\"glyph\":{\"id\":\"2021\",\"type\":\"HBar\"},\"hover_glyph\":null,\"muted_glyph\":null,\"nonselection_glyph\":{\"id\":\"2022\",\"type\":\"HBar\"},\"selection_glyph\":null,\"view\":{\"id\":\"2024\",\"type\":\"CDSView\"}},\"id\":\"2023\",\"type\":\"GlyphRenderer\"},{\"attributes\":{\"source\":{\"id\":\"2020\",\"type\":\"ColumnDataSource\"}},\"id\":\"2024\",\"type\":\"CDSView\"},{\"attributes\":{},\"id\":\"2026\",\"type\":\"BasicTickFormatter\"},{\"attributes\":{},\"id\":\"1996\",\"type\":\"CategoricalScale\"},{\"attributes\":{\"formatter\":{\"id\":\"2026\",\"type\":\"BasicTickFormatter\"},\"ticker\":{\"id\":\"1999\",\"type\":\"BasicTicker\"}},\"id\":\"1998\",\"type\":\"LinearAxis\"},{\"attributes\":{},\"id\":\"2028\",\"type\":\"CategoricalTickFormatter\"},{\"attributes\":{},\"id\":\"1999\",\"type\":\"BasicTicker\"},{\"attributes\":{\"bottom_units\":\"screen\",\"fill_alpha\":{\"value\":0.5},\"fill_color\":{\"value\":\"lightgrey\"},\"left_units\":\"screen\",\"level\":\"overlay\",\"line_alpha\":{\"value\":1.0},\"line_color\":{\"value\":\"black\"},\"line_dash\":[4,4],\"line_width\":{\"value\":2},\"render_mode\":\"css\",\"right_units\":\"screen\",\"top_units\":\"screen\"},\"id\":\"2030\",\"type\":\"BoxAnnotation\"},{\"attributes\":{\"ticker\":{\"id\":\"1999\",\"type\":\"BasicTicker\"}},\"id\":\"2002\",\"type\":\"Grid\"},{\"attributes\":{\"items\":[{\"id\":\"2032\",\"type\":\"LegendItem\"},{\"id\":\"2046\",\"type\":\"LegendItem\"}]},\"id\":\"2031\",\"type\":\"Legend\"},{\"attributes\":{\"formatter\":{\"id\":\"2028\",\"type\":\"CategoricalTickFormatter\"},\"ticker\":{\"id\":\"2004\",\"type\":\"CategoricalTicker\"}},\"id\":\"2003\",\"type\":\"CategoricalAxis\"},{\"attributes\":{\"label\":{\"value\":\"<=50K\"},\"renderers\":[{\"id\":\"2023\",\"type\":\"GlyphRenderer\"}]},\"id\":\"2032\",\"type\":\"LegendItem\"},{\"attributes\":{},\"id\":\"2119\",\"type\":\"UnionRenderers\"},{\"attributes\":{},\"id\":\"2004\",\"type\":\"CategoricalTicker\"},{\"attributes\":{\"callback\":null,\"data\":{\"right\":[5742,4850,1095],\"y\":[\">40\",\"40\",\"<40\"]},\"selected\":{\"id\":\"2120\",\"type\":\"Selection\"},\"selection_policy\":{\"id\":\"2119\",\"type\":\"UnionRenderers\"}},\"id\":\"2033\",\"type\":\"ColumnDataSource\"},{\"attributes\":{},\"id\":\"2044\",\"type\":\"UnionRenderers\"},{\"attributes\":{\"dimension\":1,\"ticker\":{\"id\":\"2004\",\"type\":\"CategoricalTicker\"}},\"id\":\"2006\",\"type\":\"Grid\"},{\"attributes\":{\"fill_alpha\":{\"value\":0.5},\"fill_color\":{\"value\":\"coral\"},\"height\":{\"value\":0.5},\"line_alpha\":{\"value\":0.5},\"line_color\":{\"value\":\"coral\"},\"right\":{\"field\":\"right\"},\"y\":{\"field\":\"y\"}},\"id\":\"2034\",\"type\":\"HBar\"},{\"attributes\":{\"fill_alpha\":{\"value\":0.1},\"fill_color\":{\"value\":\"#1f77b4\"},\"height\":{\"value\":0.5},\"line_alpha\":{\"value\":0.1},\"line_color\":{\"value\":\"#1f77b4\"},\"right\":{\"field\":\"right\"},\"y\":{\"field\":\"y\"}},\"id\":\"2035\",\"type\":\"HBar\"},{\"attributes\":{\"fill_alpha\":{\"value\":0.1},\"fill_color\":{\"value\":\"#1f77b4\"},\"height\":{\"value\":0.5},\"line_alpha\":{\"value\":0.1},\"line_color\":{\"value\":\"#1f77b4\"},\"right\":{\"field\":\"right\"},\"y\":{\"field\":\"y\"}},\"id\":\"2022\",\"type\":\"HBar\"},{\"attributes\":{\"fill_alpha\":{\"value\":0.5},\"fill_color\":{\"value\":\"navy\"},\"height\":{\"value\":0.5},\"line_alpha\":{\"value\":0.5},\"line_color\":{\"value\":\"navy\"},\"right\":{\"field\":\"right\"},\"y\":{\"field\":\"y\"}},\"id\":\"2021\",\"type\":\"HBar\"},{\"attributes\":{\"data_source\":{\"id\":\"2033\",\"type\":\"ColumnDataSource\"},\"glyph\":{\"id\":\"2034\",\"type\":\"HBar\"},\"hover_glyph\":null,\"muted_glyph\":null,\"nonselection_glyph\":{\"id\":\"2035\",\"type\":\"HBar\"},\"selection_glyph\":null,\"view\":{\"id\":\"2037\",\"type\":\"CDSView\"}},\"id\":\"2036\",\"type\":\"GlyphRenderer\"},{\"attributes\":{\"text\":\"Hours per Week vs Income\"},\"id\":\"1988\",\"type\":\"Title\"},{\"attributes\":{\"active_drag\":\"auto\",\"active_inspect\":\"auto\",\"active_multi\":null,\"active_scroll\":\"auto\",\"active_tap\":\"auto\",\"tools\":[{\"id\":\"2007\",\"type\":\"PanTool\"},{\"id\":\"2008\",\"type\":\"WheelZoomTool\"},{\"id\":\"2009\",\"type\":\"BoxZoomTool\"},{\"id\":\"2010\",\"type\":\"SaveTool\"},{\"id\":\"2011\",\"type\":\"ResetTool\"},{\"id\":\"2012\",\"type\":\"HelpTool\"}]},\"id\":\"2013\",\"type\":\"Toolbar\"},{\"attributes\":{\"source\":{\"id\":\"2033\",\"type\":\"ColumnDataSource\"}},\"id\":\"2037\",\"type\":\"CDSView\"},{\"attributes\":{},\"id\":\"2007\",\"type\":\"PanTool\"},{\"attributes\":{\"callback\":null,\"data\":{\"right\":[17953,10592,8610],\"y\":[\"40\",\"<40\",\">40\"]},\"selected\":{\"id\":\"2045\",\"type\":\"Selection\"},\"selection_policy\":{\"id\":\"2044\",\"type\":\"UnionRenderers\"}},\"id\":\"2020\",\"type\":\"ColumnDataSource\"},{\"attributes\":{},\"id\":\"2008\",\"type\":\"WheelZoomTool\"},{\"attributes\":{\"callback\":null},\"id\":\"1990\",\"type\":\"DataRange1d\"}],\"root_ids\":[\"1987\"]},\"title\":\"Bokeh Application\",\"version\":\"1.3.4\"}};\n",
       "  var render_items = [{\"docid\":\"51473c3b-8d3f-4419-847e-55ad13f61b64\",\"roots\":{\"1987\":\"1dcea4b7-445c-4ec7-89b4-39926136d5eb\"}}];\n",
       "  root.Bokeh.embed.embed_items_notebook(docs_json, render_items);\n",
       "\n",
       "  }\n",
       "  if (root.Bokeh !== undefined) {\n",
       "    embed_document(root);\n",
       "  } else {\n",
       "    var attempts = 0;\n",
       "    var timer = setInterval(function(root) {\n",
       "      if (root.Bokeh !== undefined) {\n",
       "        embed_document(root);\n",
       "        clearInterval(timer);\n",
       "      }\n",
       "      attempts++;\n",
       "      if (attempts > 100) {\n",
       "        console.log(\"Bokeh: ERROR: Unable to run BokehJS code because BokehJS library is missing\");\n",
       "        clearInterval(timer);\n",
       "      }\n",
       "    }, 10, root)\n",
       "  }\n",
       "})(window);"
      ],
      "application/vnd.bokehjs_exec.v0+json": ""
     },
     "metadata": {
      "application/vnd.bokehjs_exec.v0+json": {
       "id": "1987"
      }
     },
     "output_type": "display_data"
    }
   ],
   "source": [
    "categorical_hours_per_week = pd.cut(\n",
    "    hours_per_week, \n",
    "    bins=[min(hours_per_week) - 1, 39, 40, max(hours_per_week)], \n",
    "    right=True,\n",
    "    labels=[\"<40\", \"40\", \">40\"]\n",
    ")\n",
    "\n",
    "class_index = dataframe[\"income\"] == \"<=50K\"\n",
    "plot = make_categorical_hbar(categorical_hours_per_week, class_index, \"Hours per Week vs Income\")\n",
    "show(plot)"
   ]
  },
  {
   "cell_type": "markdown",
   "metadata": {},
   "source": [
    "The percentage of individuals making over $50,000 drastically decreases when less than 40 hours per week, and increases significantly when greater than 40 hours per week."
   ]
  },
  {
   "cell_type": "markdown",
   "metadata": {},
   "source": [
    "#### native-country"
   ]
  },
  {
   "cell_type": "markdown",
   "metadata": {},
   "source": [
    "Country of origin for an individual."
   ]
  },
  {
   "cell_type": "code",
   "execution_count": 49,
   "metadata": {},
   "outputs": [
    {
     "data": {
      "text/plain": [
       "United-States                 43832\n",
       "Mexico                          951\n",
       "?                               857\n",
       "Philippines                     295\n",
       "Germany                         206\n",
       "Puerto-Rico                     184\n",
       "Canada                          182\n",
       "El-Salvador                     155\n",
       "India                           151\n",
       "Cuba                            138\n",
       "England                         127\n",
       "China                           122\n",
       "South                           115\n",
       "Jamaica                         106\n",
       "Italy                           105\n",
       "Dominican-Republic              103\n",
       "Japan                            92\n",
       "Guatemala                        88\n",
       "Poland                           87\n",
       "Vietnam                          86\n",
       "Columbia                         85\n",
       "Haiti                            75\n",
       "Portugal                         67\n",
       "Taiwan                           65\n",
       "Iran                             59\n",
       "Nicaragua                        49\n",
       "Greece                           49\n",
       "Peru                             46\n",
       "Ecuador                          45\n",
       "France                           38\n",
       "Ireland                          37\n",
       "Hong                             30\n",
       "Thailand                         30\n",
       "Cambodia                         28\n",
       "Trinadad&Tobago                  27\n",
       "Outlying-US(Guam-USVI-etc)       23\n",
       "Laos                             23\n",
       "Yugoslavia                       23\n",
       "Scotland                         21\n",
       "Honduras                         20\n",
       "Hungary                          19\n",
       "Holand-Netherlands                1\n",
       "Name: native-country, dtype: int64"
      ]
     },
     "execution_count": 49,
     "metadata": {},
     "output_type": "execute_result"
    }
   ],
   "source": [
    "native_country = dataframe[\"native-country\"]\n",
    "native_country.value_counts()"
   ]
  },
  {
   "cell_type": "markdown",
   "metadata": {},
   "source": [
    "#### income"
   ]
  },
  {
   "cell_type": "markdown",
   "metadata": {},
   "source": [
    "The label whether or not an individual makes more than $50,000 annually."
   ]
  },
  {
   "cell_type": "code",
   "execution_count": 50,
   "metadata": {},
   "outputs": [
    {
     "data": {
      "text/plain": [
       "<=50K    37155\n",
       ">50K     11687\n",
       "Name: income, dtype: int64"
      ]
     },
     "execution_count": 50,
     "metadata": {},
     "output_type": "execute_result"
    }
   ],
   "source": [
    "income = dataframe[\"income\"]\n",
    "income.value_counts()"
   ]
  },
  {
   "cell_type": "markdown",
   "metadata": {},
   "source": [
    "### Prediction models"
   ]
  },
  {
   "cell_type": "code",
   "execution_count": 21,
   "metadata": {},
   "outputs": [],
   "source": [
    "from scipy.sparse import hstack\n",
    "from sklearn.metrics import f1_score, accuracy_score\n",
    "from sklearn.model_selection import train_test_split\n",
    "from sklearn.preprocessing import LabelEncoder, OneHotEncoder"
   ]
  },
  {
   "cell_type": "markdown",
   "metadata": {},
   "source": [
    "Data preprocessing:"
   ]
  },
  {
   "cell_type": "code",
   "execution_count": 22,
   "metadata": {},
   "outputs": [],
   "source": [
    "encoder = OneHotEncoder()\n",
    "label_encoder = LabelEncoder()"
   ]
  },
  {
   "cell_type": "code",
   "execution_count": 23,
   "metadata": {},
   "outputs": [],
   "source": [
    "X = np.hstack((\n",
    "    dataframe[\"age\"].values.reshape(-1, 1),\n",
    "    encoder.fit_transform(dataframe[\"education\"].values.reshape(-1, 1)).toarray(),\n",
    "    encoder.fit_transform(dataframe[\"marital-status\"].values.reshape(-1, 1)).toarray(),\n",
    "    encoder.fit_transform(dataframe[\"occupation\"].values.reshape(-1, 1)).toarray(),\n",
    "    encoder.fit_transform(dataframe[\"race\"].values.reshape(-1, 1)).toarray(),\n",
    "    encoder.fit_transform(dataframe[\"gender\"].values.reshape(-1, 1)).toarray(),\n",
    "    dataframe[\"capital-gain\"].values.reshape(-1, 1),\n",
    "    dataframe[\"capital-loss\"].values.reshape(-1, 1),\n",
    "    dataframe[\"hours-per-week\"].values.reshape(-1, 1),\n",
    "))\n",
    "\n",
    "y = label_encoder.fit_transform(dataframe.income)"
   ]
  },
  {
   "cell_type": "code",
   "execution_count": 24,
   "metadata": {},
   "outputs": [
    {
     "data": {
      "text/plain": [
       "(48842, 49)"
      ]
     },
     "execution_count": 24,
     "metadata": {},
     "output_type": "execute_result"
    }
   ],
   "source": [
    "X.shape"
   ]
  },
  {
   "cell_type": "code",
   "execution_count": 25,
   "metadata": {},
   "outputs": [
    {
     "data": {
      "text/plain": [
       "(48842,)"
      ]
     },
     "execution_count": 25,
     "metadata": {},
     "output_type": "execute_result"
    }
   ],
   "source": [
    "y.shape"
   ]
  },
  {
   "cell_type": "code",
   "execution_count": 26,
   "metadata": {},
   "outputs": [],
   "source": [
    "X_train, X_test, y_train, y_test = train_test_split(\n",
    "    X, y, test_size=0.2, random_state=42\n",
    ")"
   ]
  },
  {
   "cell_type": "markdown",
   "metadata": {},
   "source": [
    "#### Dummy Model"
   ]
  },
  {
   "cell_type": "code",
   "execution_count": 27,
   "metadata": {},
   "outputs": [
    {
     "name": "stdout",
     "output_type": "stream",
     "text": [
      "Accuracy score: 0.630668440986795\n",
      "F1 score: 0.23037542662116042\n"
     ]
    }
   ],
   "source": [
    "from sklearn.dummy import DummyClassifier\n",
    "\n",
    "model = DummyClassifier()\n",
    "model.fit(X_train, y_train)\n",
    "\n",
    "y_predicted = model.predict(X_test)\n",
    "print(\"Accuracy score:\", accuracy_score(y_test, y_predicted))\n",
    "print(\"F1 score:\", f1_score(y_test, y_predicted))"
   ]
  },
  {
   "cell_type": "markdown",
   "metadata": {},
   "source": [
    "#### Nearest Neighbors"
   ]
  },
  {
   "cell_type": "code",
   "execution_count": 28,
   "metadata": {},
   "outputs": [
    {
     "name": "stdout",
     "output_type": "stream",
     "text": [
      "Accuracy score: 0.8574060804585935\n",
      "F1 score: 0.67430441898527\n"
     ]
    }
   ],
   "source": [
    "from sklearn.neighbors import KNeighborsClassifier\n",
    "\n",
    "model = KNeighborsClassifier(15)\n",
    "model.fit(X_train, y_train)\n",
    "\n",
    "y_predicted = model.predict(X_test)\n",
    "print(\"Accuracy score:\", accuracy_score(y_test, y_predicted))\n",
    "print(\"F1 score:\", f1_score(y_test, y_predicted))"
   ]
  },
  {
   "cell_type": "markdown",
   "metadata": {},
   "source": [
    "#### Decision Tree"
   ]
  },
  {
   "cell_type": "code",
   "execution_count": 82,
   "metadata": {},
   "outputs": [
    {
     "name": "stdout",
     "output_type": "stream",
     "text": [
      "Accuracy score: 0.8590439144231754\n",
      "F1 score: 0.6692289214508768\n"
     ]
    }
   ],
   "source": [
    "from sklearn.tree import DecisionTreeClassifier\n",
    "\n",
    "model = DecisionTreeClassifier(min_samples_leaf=20)\n",
    "model.fit(X_train, y_train)\n",
    "\n",
    "y_predicted = model.predict(X_test)\n",
    "print(\"Accuracy score:\", accuracy_score(y_test, y_predicted))\n",
    "print(\"F1 score:\", f1_score(y_test, y_predicted))"
   ]
  },
  {
   "cell_type": "markdown",
   "metadata": {},
   "source": [
    "#### Random Forest"
   ]
  },
  {
   "cell_type": "code",
   "execution_count": 84,
   "metadata": {},
   "outputs": [
    {
     "name": "stdout",
     "output_type": "stream",
     "text": [
      "Accuracy score: 0.8663118026410073\n",
      "F1 score: 0.6752859273993038\n"
     ]
    }
   ],
   "source": [
    "from sklearn.ensemble import RandomForestClassifier\n",
    "\n",
    "model = RandomForestClassifier(100, min_samples_leaf=20)\n",
    "model.fit(X_train, y_train)\n",
    "\n",
    "y_predicted = model.predict(X_test)\n",
    "print(\"Accuracy score:\", accuracy_score(y_test, y_predicted))\n",
    "print(\"F1 score:\", f1_score(y_test, y_predicted))"
   ]
  },
  {
   "cell_type": "markdown",
   "metadata": {},
   "source": [
    "### References"
   ]
  },
  {
   "cell_type": "markdown",
   "metadata": {},
   "source": [
    "* http://www.cs.toronto.edu/~delve/data/adult/desc.html\n",
    "* http://cseweb.ucsd.edu/classes/sp15/cse190-c/reports/sp15/048.pdf"
   ]
  }
 ],
 "metadata": {
  "kernelspec": {
   "display_name": "Python 3",
   "language": "python",
   "name": "python3"
  },
  "language_info": {
   "codemirror_mode": {
    "name": "ipython",
    "version": 3
   },
   "file_extension": ".py",
   "mimetype": "text/x-python",
   "name": "python",
   "nbconvert_exporter": "python",
   "pygments_lexer": "ipython3",
   "version": "3.6.8"
  }
 },
 "nbformat": 4,
 "nbformat_minor": 2
}
